{
  "cells": [
    {
      "cell_type": "markdown",
      "metadata": {
        "id": "view-in-github",
        "colab_type": "text"
      },
      "source": [
        "<a href=\"https://colab.research.google.com/github/DanB1421/DATA602/blob/main/Brilliant_Problem_Set_1.ipynb\" target=\"_parent\"><img src=\"https://colab.research.google.com/assets/colab-badge.svg\" alt=\"Open In Colab\"/></a>"
      ]
    },
    {
      "cell_type": "markdown",
      "metadata": {
        "id": "wxKNgUhRLAwD"
      },
      "source": [
        "# Problem Set 1"
      ]
    },
    {
      "cell_type": "markdown",
      "source": [
        "**REMINDER**: Please complete the initial course survey here before submitting the assignment: https://forms.office.com/r/QE3U3xKVKW"
      ],
      "metadata": {
        "id": "WguViot8GwHw"
      }
    },
    {
      "cell_type": "markdown",
      "metadata": {
        "id": "kVDY9twU5vR_"
      },
      "source": [
        "For problems 1 and 2, use declarative code in Pandas to arrive at your solution.  Full credit will not be given for imperative approaches, such as iterating through rows."
      ]
    },
    {
      "cell_type": "markdown",
      "metadata": {
        "id": "nS4C_IlTLEvi"
      },
      "source": [
        "## Preparation"
      ]
    },
    {
      "cell_type": "code",
      "execution_count": null,
      "metadata": {
        "id": "bQfLZodhATzm"
      },
      "outputs": [],
      "source": [
        "import pandas as pd\n",
        "import numpy as np\n",
        "import matplotlib.pyplot as plt\n",
        "import seaborn as sns\n",
        "from datetime import datetime\n",
        "import pytz"
      ]
    },
    {
      "cell_type": "markdown",
      "metadata": {
        "id": "I5jS0IbE9Lj7"
      },
      "source": [
        "###Import data"
      ]
    },
    {
      "cell_type": "code",
      "execution_count": null,
      "metadata": {
        "colab": {
          "base_uri": "https://localhost:8080/"
        },
        "id": "bxyfs1edBLuT",
        "outputId": "268acba5-e4ea-4be0-c399-af85c0b8b667"
      },
      "outputs": [
        {
          "output_type": "stream",
          "name": "stdout",
          "text": [
            "Drive already mounted at /content/drive; to attempt to forcibly remount, call drive.mount(\"/content/drive\", force_remount=True).\n"
          ]
        }
      ],
      "source": [
        "from google.colab import drive\n",
        "drive.mount(\"/content/drive\")\n",
        "!mkdir -p datashim\n",
        "!cp /content/drive/Shareddrives/DS602-F22/Data/data602.py ./datashim\n",
        "from datashim import data602"
      ]
    },
    {
      "cell_type": "code",
      "execution_count": null,
      "metadata": {
        "id": "k6KwqWpM5VqR"
      },
      "outputs": [],
      "source": [
        "cdf = data602.read_citations()\n",
        "wdf = data602.read_weather()"
      ]
    },
    {
      "cell_type": "markdown",
      "metadata": {
        "id": "ukRW9IhlWBbt"
      },
      "source": [
        "## Question 1 (10%)\n",
        "\n",
        "Using the `weather` dataset, provide the following summary statistics:"
      ]
    },
    {
      "cell_type": "markdown",
      "metadata": {
        "id": "7o61g4aGWFYr"
      },
      "source": [
        "###a. Over the entire datasets, which observations had the hottest and coldest temperatures? What were those temperatures?"
      ]
    },
    {
      "cell_type": "code",
      "execution_count": null,
      "metadata": {
        "id": "4QyH66_P3HuW",
        "colab": {
          "base_uri": "https://localhost:8080/",
          "height": 206
        },
        "outputId": "fa74551c-6573-4f6f-c7f7-c84587d0a42a"
      },
      "outputs": [
        {
          "output_type": "execute_result",
          "data": {
            "text/plain": [
              "                       date  wnd_speed  tmp_meas  precip  precip_intensity  \\\n",
              "0 2015-12-31 19:54:00-05:00        1.5       7.2     0.0                 0   \n",
              "1 2015-12-31 20:54:00-05:00        3.1       6.1     0.0                 0   \n",
              "2 2015-12-31 21:54:00-05:00        2.1       6.7     0.0                 0   \n",
              "3 2015-12-31 22:54:00-05:00        2.6       6.1     0.0                 0   \n",
              "4 2015-12-31 23:54:00-05:00        2.1       5.6     0.0                 0   \n",
              "\n",
              "   cloudcover  tstorm  winter  mist  fog  \n",
              "0         4.0       0       0     0    0  \n",
              "1         4.0       0       0     0    0  \n",
              "2         4.0       0       0     0    0  \n",
              "3         4.0       0       0     0    0  \n",
              "4         4.0       0       0     0    0  "
            ],
            "text/html": [
              "\n",
              "  <div id=\"df-6a45ae4c-5383-43c0-8702-141e941b3371\">\n",
              "    <div class=\"colab-df-container\">\n",
              "      <div>\n",
              "<style scoped>\n",
              "    .dataframe tbody tr th:only-of-type {\n",
              "        vertical-align: middle;\n",
              "    }\n",
              "\n",
              "    .dataframe tbody tr th {\n",
              "        vertical-align: top;\n",
              "    }\n",
              "\n",
              "    .dataframe thead th {\n",
              "        text-align: right;\n",
              "    }\n",
              "</style>\n",
              "<table border=\"1\" class=\"dataframe\">\n",
              "  <thead>\n",
              "    <tr style=\"text-align: right;\">\n",
              "      <th></th>\n",
              "      <th>date</th>\n",
              "      <th>wnd_speed</th>\n",
              "      <th>tmp_meas</th>\n",
              "      <th>precip</th>\n",
              "      <th>precip_intensity</th>\n",
              "      <th>cloudcover</th>\n",
              "      <th>tstorm</th>\n",
              "      <th>winter</th>\n",
              "      <th>mist</th>\n",
              "      <th>fog</th>\n",
              "    </tr>\n",
              "  </thead>\n",
              "  <tbody>\n",
              "    <tr>\n",
              "      <th>0</th>\n",
              "      <td>2015-12-31 19:54:00-05:00</td>\n",
              "      <td>1.5</td>\n",
              "      <td>7.2</td>\n",
              "      <td>0.0</td>\n",
              "      <td>0</td>\n",
              "      <td>4.0</td>\n",
              "      <td>0</td>\n",
              "      <td>0</td>\n",
              "      <td>0</td>\n",
              "      <td>0</td>\n",
              "    </tr>\n",
              "    <tr>\n",
              "      <th>1</th>\n",
              "      <td>2015-12-31 20:54:00-05:00</td>\n",
              "      <td>3.1</td>\n",
              "      <td>6.1</td>\n",
              "      <td>0.0</td>\n",
              "      <td>0</td>\n",
              "      <td>4.0</td>\n",
              "      <td>0</td>\n",
              "      <td>0</td>\n",
              "      <td>0</td>\n",
              "      <td>0</td>\n",
              "    </tr>\n",
              "    <tr>\n",
              "      <th>2</th>\n",
              "      <td>2015-12-31 21:54:00-05:00</td>\n",
              "      <td>2.1</td>\n",
              "      <td>6.7</td>\n",
              "      <td>0.0</td>\n",
              "      <td>0</td>\n",
              "      <td>4.0</td>\n",
              "      <td>0</td>\n",
              "      <td>0</td>\n",
              "      <td>0</td>\n",
              "      <td>0</td>\n",
              "    </tr>\n",
              "    <tr>\n",
              "      <th>3</th>\n",
              "      <td>2015-12-31 22:54:00-05:00</td>\n",
              "      <td>2.6</td>\n",
              "      <td>6.1</td>\n",
              "      <td>0.0</td>\n",
              "      <td>0</td>\n",
              "      <td>4.0</td>\n",
              "      <td>0</td>\n",
              "      <td>0</td>\n",
              "      <td>0</td>\n",
              "      <td>0</td>\n",
              "    </tr>\n",
              "    <tr>\n",
              "      <th>4</th>\n",
              "      <td>2015-12-31 23:54:00-05:00</td>\n",
              "      <td>2.1</td>\n",
              "      <td>5.6</td>\n",
              "      <td>0.0</td>\n",
              "      <td>0</td>\n",
              "      <td>4.0</td>\n",
              "      <td>0</td>\n",
              "      <td>0</td>\n",
              "      <td>0</td>\n",
              "      <td>0</td>\n",
              "    </tr>\n",
              "  </tbody>\n",
              "</table>\n",
              "</div>\n",
              "      <button class=\"colab-df-convert\" onclick=\"convertToInteractive('df-6a45ae4c-5383-43c0-8702-141e941b3371')\"\n",
              "              title=\"Convert this dataframe to an interactive table.\"\n",
              "              style=\"display:none;\">\n",
              "        \n",
              "  <svg xmlns=\"http://www.w3.org/2000/svg\" height=\"24px\"viewBox=\"0 0 24 24\"\n",
              "       width=\"24px\">\n",
              "    <path d=\"M0 0h24v24H0V0z\" fill=\"none\"/>\n",
              "    <path d=\"M18.56 5.44l.94 2.06.94-2.06 2.06-.94-2.06-.94-.94-2.06-.94 2.06-2.06.94zm-11 1L8.5 8.5l.94-2.06 2.06-.94-2.06-.94L8.5 2.5l-.94 2.06-2.06.94zm10 10l.94 2.06.94-2.06 2.06-.94-2.06-.94-.94-2.06-.94 2.06-2.06.94z\"/><path d=\"M17.41 7.96l-1.37-1.37c-.4-.4-.92-.59-1.43-.59-.52 0-1.04.2-1.43.59L10.3 9.45l-7.72 7.72c-.78.78-.78 2.05 0 2.83L4 21.41c.39.39.9.59 1.41.59.51 0 1.02-.2 1.41-.59l7.78-7.78 2.81-2.81c.8-.78.8-2.07 0-2.86zM5.41 20L4 18.59l7.72-7.72 1.47 1.35L5.41 20z\"/>\n",
              "  </svg>\n",
              "      </button>\n",
              "      \n",
              "  <style>\n",
              "    .colab-df-container {\n",
              "      display:flex;\n",
              "      flex-wrap:wrap;\n",
              "      gap: 12px;\n",
              "    }\n",
              "\n",
              "    .colab-df-convert {\n",
              "      background-color: #E8F0FE;\n",
              "      border: none;\n",
              "      border-radius: 50%;\n",
              "      cursor: pointer;\n",
              "      display: none;\n",
              "      fill: #1967D2;\n",
              "      height: 32px;\n",
              "      padding: 0 0 0 0;\n",
              "      width: 32px;\n",
              "    }\n",
              "\n",
              "    .colab-df-convert:hover {\n",
              "      background-color: #E2EBFA;\n",
              "      box-shadow: 0px 1px 2px rgba(60, 64, 67, 0.3), 0px 1px 3px 1px rgba(60, 64, 67, 0.15);\n",
              "      fill: #174EA6;\n",
              "    }\n",
              "\n",
              "    [theme=dark] .colab-df-convert {\n",
              "      background-color: #3B4455;\n",
              "      fill: #D2E3FC;\n",
              "    }\n",
              "\n",
              "    [theme=dark] .colab-df-convert:hover {\n",
              "      background-color: #434B5C;\n",
              "      box-shadow: 0px 1px 3px 1px rgba(0, 0, 0, 0.15);\n",
              "      filter: drop-shadow(0px 1px 2px rgba(0, 0, 0, 0.3));\n",
              "      fill: #FFFFFF;\n",
              "    }\n",
              "  </style>\n",
              "\n",
              "      <script>\n",
              "        const buttonEl =\n",
              "          document.querySelector('#df-6a45ae4c-5383-43c0-8702-141e941b3371 button.colab-df-convert');\n",
              "        buttonEl.style.display =\n",
              "          google.colab.kernel.accessAllowed ? 'block' : 'none';\n",
              "\n",
              "        async function convertToInteractive(key) {\n",
              "          const element = document.querySelector('#df-6a45ae4c-5383-43c0-8702-141e941b3371');\n",
              "          const dataTable =\n",
              "            await google.colab.kernel.invokeFunction('convertToInteractive',\n",
              "                                                     [key], {});\n",
              "          if (!dataTable) return;\n",
              "\n",
              "          const docLinkHtml = 'Like what you see? Visit the ' +\n",
              "            '<a target=\"_blank\" href=https://colab.research.google.com/notebooks/data_table.ipynb>data table notebook</a>'\n",
              "            + ' to learn more about interactive tables.';\n",
              "          element.innerHTML = '';\n",
              "          dataTable['output_type'] = 'display_data';\n",
              "          await google.colab.output.renderOutput(dataTable, element);\n",
              "          const docLink = document.createElement('div');\n",
              "          docLink.innerHTML = docLinkHtml;\n",
              "          element.appendChild(docLink);\n",
              "        }\n",
              "      </script>\n",
              "    </div>\n",
              "  </div>\n",
              "  "
            ]
          },
          "metadata": {},
          "execution_count": 197
        }
      ],
      "source": [
        "wdf.head() # shows the first 5 entries in the datafraame"
      ]
    },
    {
      "cell_type": "code",
      "source": [
        "wdf_cold = wdf[wdf.tmp_meas == wdf.tmp_meas.min()] # finds the entries with the minimum temperature value(s)\n",
        "# code idea from https://www.geeksforgeeks.org/select-row-with-maximum-and-minimum-value-in-pandas-dataframe/\n",
        "wdf_cold[\"tmp_meas\"] # displays the minimum temperature value(s)"
      ],
      "metadata": {
        "colab": {
          "base_uri": "https://localhost:8080/"
        },
        "id": "RIAwXG-3Jz7R",
        "outputId": "b88b31f6-6224-44b7-c057-cf6b8a40769d"
      },
      "execution_count": null,
      "outputs": [
        {
          "output_type": "execute_result",
          "data": {
            "text/plain": [
              "17694   -16.1\n",
              "17696   -16.1\n",
              "Name: tmp_meas, dtype: float64"
            ]
          },
          "metadata": {},
          "execution_count": 198
        }
      ]
    },
    {
      "cell_type": "code",
      "source": [
        "wdf_hot = wdf[wdf.tmp_meas == wdf.tmp_meas.max()] # finds the entries with the maximum temperature value(s)\n",
        "wdf_hot[\"tmp_meas\"] # displays the maximum temperature value(s)\n",
        "# code idea from https://www.geeksforgeeks.org/select-row-with-maximum-and-minimum-value-in-pandas-dataframe/"
      ],
      "metadata": {
        "colab": {
          "base_uri": "https://localhost:8080/"
        },
        "id": "6Unc1L6oIhZI",
        "outputId": "2dd65c03-d6df-4d19-d892-e0ef7eda3480"
      },
      "execution_count": null,
      "outputs": [
        {
          "output_type": "execute_result",
          "data": {
            "text/plain": [
              "39893    37.8\n",
              "Name: tmp_meas, dtype: float64"
            ]
          },
          "metadata": {},
          "execution_count": 199
        }
      ]
    },
    {
      "cell_type": "markdown",
      "source": [
        "Observations 17694 and 17696 had the coldest temperatures, at -16.1, while observation 39893 had the hottest temperature at 37.8."
      ],
      "metadata": {
        "id": "GroMN3k0J9xG"
      }
    },
    {
      "cell_type": "markdown",
      "metadata": {
        "id": "QJd-Yts0YW-S"
      },
      "source": [
        "### b. In 2020, what month had the hottest average temperature? The coldest?"
      ]
    },
    {
      "cell_type": "code",
      "execution_count": null,
      "metadata": {
        "id": "0Ef3P_v8cL8G",
        "colab": {
          "base_uri": "https://localhost:8080/"
        },
        "outputId": "587cf923-0d84-46a4-c97a-3cdc169871b3"
      },
      "outputs": [
        {
          "output_type": "execute_result",
          "data": {
            "text/plain": [
              "date  date\n",
              "2020  7       27.809005\n",
              "      8       25.505114\n",
              "      6       24.038750\n",
              "      9       20.465972\n",
              "      5       16.923822\n",
              "      10      15.254435\n",
              "      4       11.843472\n",
              "      11      11.390707\n",
              "      3       10.436205\n",
              "      2        5.502730\n",
              "      1        4.853495\n",
              "      12       4.250000\n",
              "Name: tmp_meas, dtype: float64"
            ]
          },
          "metadata": {},
          "execution_count": 200
        }
      ],
      "source": [
        "wdf_2020 = wdf[wdf[\"date\"].between('2020-01-01', '2021-01-01')] # creates dataframe from data found in the year 2020\n",
        "wdf_2020_monthly = wdf_2020.groupby([wdf_2020['date'].dt.year, wdf_2020['date'].dt.month]).mean().sort_values(by=\"tmp_meas\", ascending=False) # creates dataframe with average observed values grouped by year and month, ordered by temperature from hottest to coldest\n",
        "# code idea from https://stackoverflow.com/questions/26646191/pandas-groupby-month-and-year\n",
        "wdf_2020_monthly[\"tmp_meas\"] # displays the average monthly temperature averages from hottest to coldest"
      ]
    },
    {
      "cell_type": "markdown",
      "source": [
        "In 2020, the month with the hottest average temperature was July, while the month with the coldest average temperature was December."
      ],
      "metadata": {
        "id": "_EHf_yJ7UTPz"
      }
    },
    {
      "cell_type": "markdown",
      "metadata": {
        "id": "4YRxsyQmb6Vv"
      },
      "source": [
        "### c. In 2020, how many days were associated with rain (i.e., liquid precipitation exceeding zero for at least one observation)?"
      ]
    },
    {
      "cell_type": "code",
      "execution_count": null,
      "metadata": {
        "id": "vCiGJyNu3KGA",
        "colab": {
          "base_uri": "https://localhost:8080/"
        },
        "outputId": "c876168f-754c-45e6-c849-eee32de52408"
      },
      "outputs": [
        {
          "output_type": "execute_result",
          "data": {
            "text/plain": [
              "144"
            ]
          },
          "metadata": {},
          "execution_count": 201
        }
      ],
      "source": [
        "wdf_2020_precip = wdf_2020[wdf_2020['precip'] > 0] # creates dataframe that contains all observations of precipitation exceeding 0\n",
        "wdf_2020_precip_days = wdf_2020_precip.groupby([wdf_2020_precip['date'].dt.month, wdf_2020_precip['date'].dt.day]).sum() # creates dataframe with summed observed values grouped by month and day\n",
        "len(wdf_2020_precip_days.index) # displays the number of total days in 2020 associated with rain"
      ]
    },
    {
      "cell_type": "markdown",
      "source": [
        "There were 144 days in 2020 associated with rain."
      ],
      "metadata": {
        "id": "bsYhKgHea9j3"
      }
    },
    {
      "cell_type": "markdown",
      "metadata": {
        "id": "hD3WsB2Noxtb"
      },
      "source": [
        "##Question 2 (25%)\n",
        "From the `citations` dataset, provide the following summary statistics:"
      ]
    },
    {
      "cell_type": "markdown",
      "metadata": {
        "id": "-63tzIwlo98J"
      },
      "source": [
        "###a. Which violation types, on average, incur the highest fines?"
      ]
    },
    {
      "cell_type": "code",
      "execution_count": null,
      "metadata": {
        "id": "tg2snLPy3MCi",
        "colab": {
          "base_uri": "https://localhost:8080/",
          "height": 337
        },
        "outputId": "3dfb3cda-0127-437d-d3a8-efbf025918de"
      },
      "outputs": [
        {
          "output_type": "execute_result",
          "data": {
            "text/plain": [
              "   citation       tag state  violcode  \\\n",
              "0        91    03W671    MD        27   \n",
              "1       166  T294093T    MD        12   \n",
              "2       299  19TLR318    ME        99   \n",
              "3       315  14TLR551    ME        99   \n",
              "4       562   9AE2340    MD        18   \n",
              "\n",
              "                                description  violfine  \\\n",
              "0              No Stop/Park Street Cleaning        52   \n",
              "1    No Stopping/Standing Not Tow-Away Zone        32   \n",
              "2  All Other Stopping or Parking Violations        32   \n",
              "3  All Other Stopping or Parking Violations        32   \n",
              "4        All Other Parking Meter Violations        32   \n",
              "\n",
              "                   violdate                           location  \\\n",
              "0 2011-12-09 11:55:00-05:00                               <NA>   \n",
              "1 2011-12-09 12:39:00-05:00                               <NA>   \n",
              "2 2011-12-09 11:55:00-05:00                               <NA>   \n",
              "3 2011-12-09 12:01:59-05:00                               <NA>   \n",
              "4 2011-12-12 10:47:00-05:00  LAFAYETTE MARKET LOT Baltimore MD   \n",
              "\n",
              "              violdtl  \n",
              "0 2011-12-09 11:55:00  \n",
              "1 2011-12-09 12:39:00  \n",
              "2 2011-12-09 11:55:00  \n",
              "3 2011-12-09 12:01:59  \n",
              "4 2011-12-12 10:47:00  "
            ],
            "text/html": [
              "\n",
              "  <div id=\"df-28a24788-23de-4943-90f7-63ee709f9eb0\">\n",
              "    <div class=\"colab-df-container\">\n",
              "      <div>\n",
              "<style scoped>\n",
              "    .dataframe tbody tr th:only-of-type {\n",
              "        vertical-align: middle;\n",
              "    }\n",
              "\n",
              "    .dataframe tbody tr th {\n",
              "        vertical-align: top;\n",
              "    }\n",
              "\n",
              "    .dataframe thead th {\n",
              "        text-align: right;\n",
              "    }\n",
              "</style>\n",
              "<table border=\"1\" class=\"dataframe\">\n",
              "  <thead>\n",
              "    <tr style=\"text-align: right;\">\n",
              "      <th></th>\n",
              "      <th>citation</th>\n",
              "      <th>tag</th>\n",
              "      <th>state</th>\n",
              "      <th>violcode</th>\n",
              "      <th>description</th>\n",
              "      <th>violfine</th>\n",
              "      <th>violdate</th>\n",
              "      <th>location</th>\n",
              "      <th>violdtl</th>\n",
              "    </tr>\n",
              "  </thead>\n",
              "  <tbody>\n",
              "    <tr>\n",
              "      <th>0</th>\n",
              "      <td>91</td>\n",
              "      <td>03W671</td>\n",
              "      <td>MD</td>\n",
              "      <td>27</td>\n",
              "      <td>No Stop/Park Street Cleaning</td>\n",
              "      <td>52</td>\n",
              "      <td>2011-12-09 11:55:00-05:00</td>\n",
              "      <td>&lt;NA&gt;</td>\n",
              "      <td>2011-12-09 11:55:00</td>\n",
              "    </tr>\n",
              "    <tr>\n",
              "      <th>1</th>\n",
              "      <td>166</td>\n",
              "      <td>T294093T</td>\n",
              "      <td>MD</td>\n",
              "      <td>12</td>\n",
              "      <td>No Stopping/Standing Not Tow-Away Zone</td>\n",
              "      <td>32</td>\n",
              "      <td>2011-12-09 12:39:00-05:00</td>\n",
              "      <td>&lt;NA&gt;</td>\n",
              "      <td>2011-12-09 12:39:00</td>\n",
              "    </tr>\n",
              "    <tr>\n",
              "      <th>2</th>\n",
              "      <td>299</td>\n",
              "      <td>19TLR318</td>\n",
              "      <td>ME</td>\n",
              "      <td>99</td>\n",
              "      <td>All Other Stopping or Parking Violations</td>\n",
              "      <td>32</td>\n",
              "      <td>2011-12-09 11:55:00-05:00</td>\n",
              "      <td>&lt;NA&gt;</td>\n",
              "      <td>2011-12-09 11:55:00</td>\n",
              "    </tr>\n",
              "    <tr>\n",
              "      <th>3</th>\n",
              "      <td>315</td>\n",
              "      <td>14TLR551</td>\n",
              "      <td>ME</td>\n",
              "      <td>99</td>\n",
              "      <td>All Other Stopping or Parking Violations</td>\n",
              "      <td>32</td>\n",
              "      <td>2011-12-09 12:01:59-05:00</td>\n",
              "      <td>&lt;NA&gt;</td>\n",
              "      <td>2011-12-09 12:01:59</td>\n",
              "    </tr>\n",
              "    <tr>\n",
              "      <th>4</th>\n",
              "      <td>562</td>\n",
              "      <td>9AE2340</td>\n",
              "      <td>MD</td>\n",
              "      <td>18</td>\n",
              "      <td>All Other Parking Meter Violations</td>\n",
              "      <td>32</td>\n",
              "      <td>2011-12-12 10:47:00-05:00</td>\n",
              "      <td>LAFAYETTE MARKET LOT Baltimore MD</td>\n",
              "      <td>2011-12-12 10:47:00</td>\n",
              "    </tr>\n",
              "  </tbody>\n",
              "</table>\n",
              "</div>\n",
              "      <button class=\"colab-df-convert\" onclick=\"convertToInteractive('df-28a24788-23de-4943-90f7-63ee709f9eb0')\"\n",
              "              title=\"Convert this dataframe to an interactive table.\"\n",
              "              style=\"display:none;\">\n",
              "        \n",
              "  <svg xmlns=\"http://www.w3.org/2000/svg\" height=\"24px\"viewBox=\"0 0 24 24\"\n",
              "       width=\"24px\">\n",
              "    <path d=\"M0 0h24v24H0V0z\" fill=\"none\"/>\n",
              "    <path d=\"M18.56 5.44l.94 2.06.94-2.06 2.06-.94-2.06-.94-.94-2.06-.94 2.06-2.06.94zm-11 1L8.5 8.5l.94-2.06 2.06-.94-2.06-.94L8.5 2.5l-.94 2.06-2.06.94zm10 10l.94 2.06.94-2.06 2.06-.94-2.06-.94-.94-2.06-.94 2.06-2.06.94z\"/><path d=\"M17.41 7.96l-1.37-1.37c-.4-.4-.92-.59-1.43-.59-.52 0-1.04.2-1.43.59L10.3 9.45l-7.72 7.72c-.78.78-.78 2.05 0 2.83L4 21.41c.39.39.9.59 1.41.59.51 0 1.02-.2 1.41-.59l7.78-7.78 2.81-2.81c.8-.78.8-2.07 0-2.86zM5.41 20L4 18.59l7.72-7.72 1.47 1.35L5.41 20z\"/>\n",
              "  </svg>\n",
              "      </button>\n",
              "      \n",
              "  <style>\n",
              "    .colab-df-container {\n",
              "      display:flex;\n",
              "      flex-wrap:wrap;\n",
              "      gap: 12px;\n",
              "    }\n",
              "\n",
              "    .colab-df-convert {\n",
              "      background-color: #E8F0FE;\n",
              "      border: none;\n",
              "      border-radius: 50%;\n",
              "      cursor: pointer;\n",
              "      display: none;\n",
              "      fill: #1967D2;\n",
              "      height: 32px;\n",
              "      padding: 0 0 0 0;\n",
              "      width: 32px;\n",
              "    }\n",
              "\n",
              "    .colab-df-convert:hover {\n",
              "      background-color: #E2EBFA;\n",
              "      box-shadow: 0px 1px 2px rgba(60, 64, 67, 0.3), 0px 1px 3px 1px rgba(60, 64, 67, 0.15);\n",
              "      fill: #174EA6;\n",
              "    }\n",
              "\n",
              "    [theme=dark] .colab-df-convert {\n",
              "      background-color: #3B4455;\n",
              "      fill: #D2E3FC;\n",
              "    }\n",
              "\n",
              "    [theme=dark] .colab-df-convert:hover {\n",
              "      background-color: #434B5C;\n",
              "      box-shadow: 0px 1px 3px 1px rgba(0, 0, 0, 0.15);\n",
              "      filter: drop-shadow(0px 1px 2px rgba(0, 0, 0, 0.3));\n",
              "      fill: #FFFFFF;\n",
              "    }\n",
              "  </style>\n",
              "\n",
              "      <script>\n",
              "        const buttonEl =\n",
              "          document.querySelector('#df-28a24788-23de-4943-90f7-63ee709f9eb0 button.colab-df-convert');\n",
              "        buttonEl.style.display =\n",
              "          google.colab.kernel.accessAllowed ? 'block' : 'none';\n",
              "\n",
              "        async function convertToInteractive(key) {\n",
              "          const element = document.querySelector('#df-28a24788-23de-4943-90f7-63ee709f9eb0');\n",
              "          const dataTable =\n",
              "            await google.colab.kernel.invokeFunction('convertToInteractive',\n",
              "                                                     [key], {});\n",
              "          if (!dataTable) return;\n",
              "\n",
              "          const docLinkHtml = 'Like what you see? Visit the ' +\n",
              "            '<a target=\"_blank\" href=https://colab.research.google.com/notebooks/data_table.ipynb>data table notebook</a>'\n",
              "            + ' to learn more about interactive tables.';\n",
              "          element.innerHTML = '';\n",
              "          dataTable['output_type'] = 'display_data';\n",
              "          await google.colab.output.renderOutput(dataTable, element);\n",
              "          const docLink = document.createElement('div');\n",
              "          docLink.innerHTML = docLinkHtml;\n",
              "          element.appendChild(docLink);\n",
              "        }\n",
              "      </script>\n",
              "    </div>\n",
              "  </div>\n",
              "  "
            ]
          },
          "metadata": {},
          "execution_count": 202
        }
      ],
      "source": [
        "cdf.head() # shows the first 5 entries in the dataframe"
      ]
    },
    {
      "cell_type": "code",
      "source": [
        "cdf_violations = cdf.groupby([\"description\"]).mean().sort_values(by=\"violfine\", ascending=False) # creates dataframe grouped by description, ordered by average fines from largest to smallest\n",
        "cdf_violations[\"violfine\"] # displays the average fine values in order from largest to smallest"
      ],
      "metadata": {
        "colab": {
          "base_uri": "https://localhost:8080/"
        },
        "id": "KadleIXscL9N",
        "outputId": "c08a7e68-7e97-4110-b9c3-99b52c4f5a79"
      },
      "execution_count": null,
      "outputs": [
        {
          "output_type": "execute_result",
          "data": {
            "text/plain": [
              "description\n",
              "No Parking/Standing Vendor Truck                                   502.000000\n",
              "Unlawful Dumping/Waste Hauler w/o Permit                           502.000000\n",
              "No Stop/Park Handicap                                              489.264300\n",
              "Commercial Veh/Residence over 20,000 lbs                           474.644722\n",
              "Abandonded Vehicle                                                 279.433362\n",
              "Commercial Vehicle Obstruct/Imped Traffic Flow                     252.000000\n",
              "Obstructing/Imped Traffic Xwalk/inter/school                       252.000000\n",
              "No Parking/Standing In Bus Stop/Bus Lane                           252.000000\n",
              "No Parking/Stand Motor Home/Campr/Travel Trailer                   252.000000\n",
              "Commercial Veh/Residence under 20,000 lbs                          241.736101\n",
              "No Parking/Standing In Bike Lanes                                  197.302013\n",
              "Res. Park Permit 4th Offense                                       152.000000\n",
              "Obstructing or Impeding Traffic in an Intersection or Crosswalk    127.000000\n",
              "Res. Park Permit 3rd Offense                                       102.000000\n",
              "No Stopping//Parking Stadium Event Camden                          100.373483\n",
              "Obstruct/Impeding Flow of Traffic                                  100.233654\n",
              "No Stopping or No Parking Pimlico Event                             95.320611\n",
              "Less Than 15 feet from Fire Hydrant                                 75.776329\n",
              "Obstruct/Impeding Movement of Pedestrian                            75.523315\n",
              "Red Light Violation                                                 75.000000\n",
              "Right on Red                                                        75.000000\n",
              "No Parking/Standing In Transit Stop                                 74.808091\n",
              "Fire Lane/Handicapped Violation                                     73.049801\n",
              "Res. Park Permit 2nd Offense                                        72.000000\n",
              "No Stop/Stand/Park Cruising                                         68.902834\n",
              "Snow Emergency Route Violation                                      62.351562\n",
              "Residential Parking Permit Only                                     51.592735\n",
              "No Stopping/Standing Tow Away Zone                                  51.527463\n",
              "No Stop/Park Street Cleaning                                        51.019814\n",
              "Fixed Speed Camera                                                  40.000000\n",
              "Mobile Speed Camera                                                 40.000000\n",
              "Old Fixed Speed Camera                                              40.000000\n",
              "Parking or Parking Meter Tow-Away zone                              32.000000\n",
              "No Stopping/Standing Not Tow-Away Zone                              31.714338\n",
              "Passenger Loading Zone                                              31.679149\n",
              "All Other Stopping or Parking Violations                            31.649845\n",
              "Expired Tags                                                        31.627920\n",
              "All Other Parking Meter Violations                                  31.609654\n",
              "Blocking Garage or Driveway                                         31.591434\n",
              "Exceeding 48 Hours                                                  31.434239\n",
              "In Taxicab Stand                                                    31.274744\n",
              "Less 30’ from Intersection                                          30.491561\n",
              "No Stopping/Parking Stadium Event – 33rd                            17.000000\n",
              "Name: violfine, dtype: float64"
            ]
          },
          "metadata": {},
          "execution_count": 203
        }
      ]
    },
    {
      "cell_type": "markdown",
      "source": [
        "No Parking/Standing Vendor Truck and Unlawful Dumping/Waste Hauler w/o Permit violations have the highest average fine values at 502."
      ],
      "metadata": {
        "id": "McayUQfMhOre"
      }
    },
    {
      "cell_type": "markdown",
      "metadata": {
        "id": "-II8XG-up6iW"
      },
      "source": [
        "###b. In 2020, which violation type was the most common? What percentage of total citations issued that year did it comprise?"
      ]
    },
    {
      "cell_type": "code",
      "execution_count": null,
      "metadata": {
        "id": "o2hRA6Wc3MsA",
        "colab": {
          "base_uri": "https://localhost:8080/"
        },
        "outputId": "6fa77050-cfa6-4bf1-fe42-48dc186770f0"
      },
      "outputs": [
        {
          "output_type": "execute_result",
          "data": {
            "text/plain": [
              "description\n",
              "Fixed Speed Camera                                                 597338\n",
              "Red Light Violation                                                109200\n",
              "Right on Red                                                       106287\n",
              "All Other Parking Meter Violations                                  62520\n",
              "No Stopping/Standing Not Tow-Away Zone                              33043\n",
              "Residential Parking Permit Only                                     16361\n",
              "No Stopping/Standing Tow Away Zone                                  15174\n",
              "No Stop/Park Street Cleaning                                        10945\n",
              "Expired Tags                                                         9009\n",
              "All Other Stopping or Parking Violations                             7274\n",
              "No Parking/Standing In Bus Stop/Bus Lane                             6176\n",
              "Obstruct/Impeding Movement of Pedestrian                             4163\n",
              "Less Than 15 feet from Fire Hydrant                                  3389\n",
              "Passenger Loading Zone                                               2510\n",
              "Obstruct/Impeding Flow of Traffic                                    1474\n",
              "No Stop/Park Handicap                                                1335\n",
              "Abandonded Vehicle                                                    833\n",
              "Exceeding 48 Hours                                                    616\n",
              "Commercial Veh/Residence under 20,000 lbs                             588\n",
              "Blocking Garage or Driveway                                           370\n",
              "No Parking/Standing In Transit Stop                                   348\n",
              "Fire Lane/Handicapped Violation                                       301\n",
              "Obstructing/Imped Traffic Xwalk/inter/school                           91\n",
              "Commercial Vehicle Obstruct/Imped Traffic Flow                         88\n",
              "No Stopping//Parking Stadium Event Camden                              84\n",
              "No Parking/Standing In Bike Lanes                                      79\n",
              "Obstructing or Impeding Traffic in an Intersection or Crosswalk        69\n",
              "Commercial Veh/Residence over 20,000 lbs                               65\n",
              "In Taxicab Stand                                                       39\n",
              "Res. Park Permit 2nd Offense                                           27\n",
              "No Stop/Stand/Park Cruising                                            12\n",
              "No Parking/Stand Motor Home/Campr/Travel Trailer                       11\n",
              "Snow Emergency Route Violation                                          6\n",
              "Res. Park Permit 3rd Offense                                            5\n",
              "Less 30’ from Intersection                                              4\n",
              "No Parking/Standing Vendor Truck                                        3\n",
              "Res. Park Permit 4th Offense                                            3\n",
              "No Stopping or No Parking Pimlico Event                                 2\n",
              "Parking or Parking Meter Tow-Away zone                                  2\n",
              "No Stopping/Parking Stadium Event – 33rd                                1\n",
              "Unlawful Dumping/Waste Hauler w/o Permit                                0\n",
              "Old Fixed Speed Camera                                                  0\n",
              "Mobile Speed Camera                                                     0\n",
              "Name: citation, dtype: int64"
            ]
          },
          "metadata": {},
          "execution_count": 204
        }
      ],
      "source": [
        "cdf_2020 = cdf[cdf[\"violdate\"].between('2020-01-01', '2021-01-01')] # creates dataframe from data found in the year 2020\n",
        "cdf_2020_count = cdf_2020.groupby([\"description\"]).count().sort_values(by=\"citation\", ascending=False) # creates dataframe of counts grouped by description, ordered by number of citations from largest to smallest\n",
        "cdf_2020_count[\"citation\"] # displays the number of citations for each violation from largest to smallest"
      ]
    },
    {
      "cell_type": "code",
      "source": [
        "(cdf_2020_count[\"citation\"][0])/(cdf_2020_count[\"citation\"].sum()) * 100 # calculates the percentage of total violations in 2020 that the most common violation comprised of"
      ],
      "metadata": {
        "colab": {
          "base_uri": "https://localhost:8080/"
        },
        "id": "JrLUganSkBb8",
        "outputId": "a4257cfe-498e-4485-a874-2a2e665de9a4"
      },
      "execution_count": null,
      "outputs": [
        {
          "output_type": "execute_result",
          "data": {
            "text/plain": [
              "60.34661992534185"
            ]
          },
          "metadata": {},
          "execution_count": 205
        }
      ]
    },
    {
      "cell_type": "markdown",
      "source": [
        "Fixed Speed Camera violations were the most common type of violation in 2020, and they comprised about 60.3% of all violations"
      ],
      "metadata": {
        "id": "YSFBNjdWnGxh"
      }
    },
    {
      "cell_type": "markdown",
      "metadata": {
        "id": "JFbwLqyOr4IB"
      },
      "source": [
        "###c. In 2020, which violation type was responsible for the highest fine revenue (i.e., highest sum of fine amounts)? What percentage of total fine revenue did it comprise for the year?\n"
      ]
    },
    {
      "cell_type": "code",
      "execution_count": null,
      "metadata": {
        "id": "Gmz4e7t13OIY",
        "colab": {
          "base_uri": "https://localhost:8080/"
        },
        "outputId": "fcd98d70-28b4-4d04-ebfb-64403885e2f6"
      },
      "outputs": [
        {
          "output_type": "execute_result",
          "data": {
            "text/plain": [
              "description\n",
              "Fixed Speed Camera                                                 23893520\n",
              "Red Light Violation                                                 8190000\n",
              "Right on Red                                                        7971525\n",
              "All Other Parking Meter Violations                                  2000640\n",
              "No Parking/Standing In Bus Stop/Bus Lane                            1556352\n",
              "No Stopping/Standing Not Tow-Away Zone                              1057376\n",
              "Residential Parking Permit Only                                      850772\n",
              "No Stopping/Standing Tow Away Zone                                   789048\n",
              "No Stop/Park Handicap                                                670170\n",
              "No Stop/Park Street Cleaning                                         569140\n",
              "Obstruct/Impeding Movement of Pedestrian                             320551\n",
              "Expired Tags                                                         288288\n",
              "Less Than 15 feet from Fire Hydrant                                  260953\n",
              "Abandonded Vehicle                                                   251566\n",
              "All Other Stopping or Parking Violations                             232768\n",
              "Obstruct/Impeding Flow of Traffic                                    150348\n",
              "Commercial Veh/Residence under 20,000 lbs                            148176\n",
              "Passenger Loading Zone                                                80320\n",
              "Commercial Veh/Residence over 20,000 lbs                              32630\n",
              "No Parking/Standing In Transit Stop                                   26796\n",
              "Fire Lane/Handicapped Violation                                       23177\n",
              "Obstructing/Imped Traffic Xwalk/inter/school                          22932\n",
              "Commercial Vehicle Obstruct/Imped Traffic Flow                        22176\n",
              "No Parking/Standing In Bike Lanes                                     19908\n",
              "Exceeding 48 Hours                                                    19712\n",
              "Blocking Garage or Driveway                                           11840\n",
              "Obstructing or Impeding Traffic in an Intersection or Crosswalk        8763\n",
              "No Stopping//Parking Stadium Event Camden                              8568\n",
              "No Parking/Stand Motor Home/Campr/Travel Trailer                       2772\n",
              "Res. Park Permit 2nd Offense                                           1944\n",
              "No Parking/Standing Vendor Truck                                       1506\n",
              "In Taxicab Stand                                                       1248\n",
              "No Stop/Stand/Park Cruising                                             924\n",
              "Res. Park Permit 3rd Offense                                            510\n",
              "Snow Emergency Route Violation                                          462\n",
              "Res. Park Permit 4th Offense                                            456\n",
              "No Stopping or No Parking Pimlico Event                                 204\n",
              "Less 30’ from Intersection                                              128\n",
              "Parking or Parking Meter Tow-Away zone                                   64\n",
              "No Stopping/Parking Stadium Event – 33rd                                 17\n",
              "Unlawful Dumping/Waste Hauler w/o Permit                                  0\n",
              "Old Fixed Speed Camera                                                    0\n",
              "Mobile Speed Camera                                                       0\n",
              "Name: violfine, dtype: int32"
            ]
          },
          "metadata": {},
          "execution_count": 206
        }
      ],
      "source": [
        "cdf_2020_sum = cdf_2020.groupby([\"description\"]).sum().sort_values(by=\"violfine\", ascending=False) # creates dataframe of sums grouped by description, ordered by fine sums from largest to smallest\n",
        "cdf_2020_sum[\"violfine\"] # displays the total fine revenues from largest to smallest"
      ]
    },
    {
      "cell_type": "code",
      "source": [
        "(cdf_2020_sum[\"violfine\"][0])/(cdf_2020_sum[\"violfine\"].sum()) * 100 # calculates the percentage of fine revenue in 2020 that the highest fine revenue earner comprised of"
      ],
      "metadata": {
        "colab": {
          "base_uri": "https://localhost:8080/"
        },
        "id": "B5GvNfcgoZ2P",
        "outputId": "ff118151-fe93-4e86-a034-2ec7d80b6126"
      },
      "execution_count": null,
      "outputs": [
        {
          "output_type": "execute_result",
          "data": {
            "text/plain": [
              "48.28119806216627"
            ]
          },
          "metadata": {},
          "execution_count": 207
        }
      ]
    },
    {
      "cell_type": "markdown",
      "source": [
        "Fixed Speed Camera violations were the highest fine revenue earner in 2020, and they comprised about 48.3% of all fine revenue for that year."
      ],
      "metadata": {
        "id": "yqxSZ34Oooh2"
      }
    },
    {
      "cell_type": "markdown",
      "metadata": {
        "id": "uN3PQ318tzNn"
      },
      "source": [
        "###d. Show the fines charged against the 10 tags (license plates) with the highest total fines assessed in 2020. For each, show the total number of citations, and mean/standard deviation of the fine amount."
      ]
    },
    {
      "cell_type": "code",
      "source": [
        "cdf_2020_tag_sum = cdf_2020.groupby([\"tag\"]).sum().sort_values(by=\"violfine\", ascending=False).reset_index().head(10) # creates dataframe containing the 10 tags with the highest total fines assessed in 2020 sorted from largest to smallest\n",
        "cdf_2020_tag_sum[[\"tag\", \"violfine\"]] # displays the tags and their total fine amounts from the new dataframe"
      ],
      "metadata": {
        "colab": {
          "base_uri": "https://localhost:8080/",
          "height": 363
        },
        "id": "M_kVQfv6umPu",
        "outputId": "87cf75de-4e23-48ea-a02f-08f81c2a8c1f"
      },
      "execution_count": null,
      "outputs": [
        {
          "output_type": "execute_result",
          "data": {
            "text/plain": [
              "        tag  violfine\n",
              "0   A354123      5895\n",
              "1  NO TAGST      4777\n",
              "2   9DR2114      4740\n",
              "3   6EE1679      4630\n",
              "4   URX4846      4421\n",
              "5    4CXM25      4365\n",
              "6    RR5H74      4237\n",
              "7   8DW4455      3980\n",
              "8   2CC3046      3882\n",
              "9   A334199      3812"
            ],
            "text/html": [
              "\n",
              "  <div id=\"df-17adfefd-5a71-4fb2-9772-2f59cc80f386\">\n",
              "    <div class=\"colab-df-container\">\n",
              "      <div>\n",
              "<style scoped>\n",
              "    .dataframe tbody tr th:only-of-type {\n",
              "        vertical-align: middle;\n",
              "    }\n",
              "\n",
              "    .dataframe tbody tr th {\n",
              "        vertical-align: top;\n",
              "    }\n",
              "\n",
              "    .dataframe thead th {\n",
              "        text-align: right;\n",
              "    }\n",
              "</style>\n",
              "<table border=\"1\" class=\"dataframe\">\n",
              "  <thead>\n",
              "    <tr style=\"text-align: right;\">\n",
              "      <th></th>\n",
              "      <th>tag</th>\n",
              "      <th>violfine</th>\n",
              "    </tr>\n",
              "  </thead>\n",
              "  <tbody>\n",
              "    <tr>\n",
              "      <th>0</th>\n",
              "      <td>A354123</td>\n",
              "      <td>5895</td>\n",
              "    </tr>\n",
              "    <tr>\n",
              "      <th>1</th>\n",
              "      <td>NO TAGST</td>\n",
              "      <td>4777</td>\n",
              "    </tr>\n",
              "    <tr>\n",
              "      <th>2</th>\n",
              "      <td>9DR2114</td>\n",
              "      <td>4740</td>\n",
              "    </tr>\n",
              "    <tr>\n",
              "      <th>3</th>\n",
              "      <td>6EE1679</td>\n",
              "      <td>4630</td>\n",
              "    </tr>\n",
              "    <tr>\n",
              "      <th>4</th>\n",
              "      <td>URX4846</td>\n",
              "      <td>4421</td>\n",
              "    </tr>\n",
              "    <tr>\n",
              "      <th>5</th>\n",
              "      <td>4CXM25</td>\n",
              "      <td>4365</td>\n",
              "    </tr>\n",
              "    <tr>\n",
              "      <th>6</th>\n",
              "      <td>RR5H74</td>\n",
              "      <td>4237</td>\n",
              "    </tr>\n",
              "    <tr>\n",
              "      <th>7</th>\n",
              "      <td>8DW4455</td>\n",
              "      <td>3980</td>\n",
              "    </tr>\n",
              "    <tr>\n",
              "      <th>8</th>\n",
              "      <td>2CC3046</td>\n",
              "      <td>3882</td>\n",
              "    </tr>\n",
              "    <tr>\n",
              "      <th>9</th>\n",
              "      <td>A334199</td>\n",
              "      <td>3812</td>\n",
              "    </tr>\n",
              "  </tbody>\n",
              "</table>\n",
              "</div>\n",
              "      <button class=\"colab-df-convert\" onclick=\"convertToInteractive('df-17adfefd-5a71-4fb2-9772-2f59cc80f386')\"\n",
              "              title=\"Convert this dataframe to an interactive table.\"\n",
              "              style=\"display:none;\">\n",
              "        \n",
              "  <svg xmlns=\"http://www.w3.org/2000/svg\" height=\"24px\"viewBox=\"0 0 24 24\"\n",
              "       width=\"24px\">\n",
              "    <path d=\"M0 0h24v24H0V0z\" fill=\"none\"/>\n",
              "    <path d=\"M18.56 5.44l.94 2.06.94-2.06 2.06-.94-2.06-.94-.94-2.06-.94 2.06-2.06.94zm-11 1L8.5 8.5l.94-2.06 2.06-.94-2.06-.94L8.5 2.5l-.94 2.06-2.06.94zm10 10l.94 2.06.94-2.06 2.06-.94-2.06-.94-.94-2.06-.94 2.06-2.06.94z\"/><path d=\"M17.41 7.96l-1.37-1.37c-.4-.4-.92-.59-1.43-.59-.52 0-1.04.2-1.43.59L10.3 9.45l-7.72 7.72c-.78.78-.78 2.05 0 2.83L4 21.41c.39.39.9.59 1.41.59.51 0 1.02-.2 1.41-.59l7.78-7.78 2.81-2.81c.8-.78.8-2.07 0-2.86zM5.41 20L4 18.59l7.72-7.72 1.47 1.35L5.41 20z\"/>\n",
              "  </svg>\n",
              "      </button>\n",
              "      \n",
              "  <style>\n",
              "    .colab-df-container {\n",
              "      display:flex;\n",
              "      flex-wrap:wrap;\n",
              "      gap: 12px;\n",
              "    }\n",
              "\n",
              "    .colab-df-convert {\n",
              "      background-color: #E8F0FE;\n",
              "      border: none;\n",
              "      border-radius: 50%;\n",
              "      cursor: pointer;\n",
              "      display: none;\n",
              "      fill: #1967D2;\n",
              "      height: 32px;\n",
              "      padding: 0 0 0 0;\n",
              "      width: 32px;\n",
              "    }\n",
              "\n",
              "    .colab-df-convert:hover {\n",
              "      background-color: #E2EBFA;\n",
              "      box-shadow: 0px 1px 2px rgba(60, 64, 67, 0.3), 0px 1px 3px 1px rgba(60, 64, 67, 0.15);\n",
              "      fill: #174EA6;\n",
              "    }\n",
              "\n",
              "    [theme=dark] .colab-df-convert {\n",
              "      background-color: #3B4455;\n",
              "      fill: #D2E3FC;\n",
              "    }\n",
              "\n",
              "    [theme=dark] .colab-df-convert:hover {\n",
              "      background-color: #434B5C;\n",
              "      box-shadow: 0px 1px 3px 1px rgba(0, 0, 0, 0.15);\n",
              "      filter: drop-shadow(0px 1px 2px rgba(0, 0, 0, 0.3));\n",
              "      fill: #FFFFFF;\n",
              "    }\n",
              "  </style>\n",
              "\n",
              "      <script>\n",
              "        const buttonEl =\n",
              "          document.querySelector('#df-17adfefd-5a71-4fb2-9772-2f59cc80f386 button.colab-df-convert');\n",
              "        buttonEl.style.display =\n",
              "          google.colab.kernel.accessAllowed ? 'block' : 'none';\n",
              "\n",
              "        async function convertToInteractive(key) {\n",
              "          const element = document.querySelector('#df-17adfefd-5a71-4fb2-9772-2f59cc80f386');\n",
              "          const dataTable =\n",
              "            await google.colab.kernel.invokeFunction('convertToInteractive',\n",
              "                                                     [key], {});\n",
              "          if (!dataTable) return;\n",
              "\n",
              "          const docLinkHtml = 'Like what you see? Visit the ' +\n",
              "            '<a target=\"_blank\" href=https://colab.research.google.com/notebooks/data_table.ipynb>data table notebook</a>'\n",
              "            + ' to learn more about interactive tables.';\n",
              "          element.innerHTML = '';\n",
              "          dataTable['output_type'] = 'display_data';\n",
              "          await google.colab.output.renderOutput(dataTable, element);\n",
              "          const docLink = document.createElement('div');\n",
              "          docLink.innerHTML = docLinkHtml;\n",
              "          element.appendChild(docLink);\n",
              "        }\n",
              "      </script>\n",
              "    </div>\n",
              "  </div>\n",
              "  "
            ]
          },
          "metadata": {},
          "execution_count": 208
        }
      ]
    },
    {
      "cell_type": "code",
      "source": [
        "tag_list = cdf_2020_tag_sum[\"tag\"].tolist() # creates a list of tags from the column in the above data frame\n",
        "cdf_2020_tag_total = cdf_2020.loc[cdf_2020[\"tag\"].isin(tag_list)].groupby([\"tag\"]).count().sort_values(by=\"citation\", ascending=False) # creates a dataframe grouped by counts for the 10 most fined tags sorted from most to least citations\n",
        "cdf_2020_tag_total[\"citation\"] # displays the total number of citations for each of the 10 most fined tags"
      ],
      "metadata": {
        "colab": {
          "base_uri": "https://localhost:8080/"
        },
        "id": "dhBrI960vGYW",
        "outputId": "110d6fb5-5aa0-4f5e-b4ac-81092b1b047e"
      },
      "execution_count": null,
      "outputs": [
        {
          "output_type": "execute_result",
          "data": {
            "text/plain": [
              "tag\n",
              "A354123     143\n",
              "NO TAGST    116\n",
              "9DR2114     101\n",
              "4CXM25       96\n",
              "8DW4455      89\n",
              "2CC3046      88\n",
              "6EE1679      86\n",
              "RR5H74       86\n",
              "A334199      78\n",
              "URX4846      76\n",
              "Name: citation, dtype: int64"
            ]
          },
          "metadata": {},
          "execution_count": 209
        }
      ]
    },
    {
      "cell_type": "code",
      "source": [
        "cdf_2020_tag_mean = cdf_2020.loc[cdf_2020[\"tag\"].isin(tag_list)].groupby([\"tag\"]).mean().sort_values(by=\"violfine\", ascending=False) # creates a dataframe grouped by means for the 10 most fined tags sorted from highest to lowest mean fine values\n",
        "cdf_2020_tag_mean[\"violfine\"] # displays the mean fine value for each of the 10 most fined tags"
      ],
      "metadata": {
        "colab": {
          "base_uri": "https://localhost:8080/"
        },
        "id": "8wI3bwXt01r-",
        "outputId": "732c995a-0970-4266-adba-be397241e2c8"
      },
      "execution_count": null,
      "outputs": [
        {
          "output_type": "execute_result",
          "data": {
            "text/plain": [
              "tag\n",
              "URX4846     58.171053\n",
              "6EE1679     53.837209\n",
              "RR5H74      49.267442\n",
              "A334199     48.871795\n",
              "9DR2114     46.930693\n",
              "4CXM25      45.468750\n",
              "8DW4455     44.719101\n",
              "2CC3046     44.113636\n",
              "A354123     41.223776\n",
              "NO TAGST    41.181034\n",
              "Name: violfine, dtype: float64"
            ]
          },
          "metadata": {},
          "execution_count": 210
        }
      ]
    },
    {
      "cell_type": "code",
      "source": [
        "cdf_2020_tag_std = cdf_2020.loc[cdf_2020[\"tag\"].isin(tag_list)].groupby([\"tag\"]).std().sort_values(by=\"violfine\", ascending=False) # creates a dataframe grouped by standard deviations for the 10 most fined tags sorted from highest to lowest standard deviations of fine value\n",
        "cdf_2020_tag_std[\"violfine\"] # displays the standard deviation of fine values for each of the 10 most fined tags"
      ],
      "metadata": {
        "colab": {
          "base_uri": "https://localhost:8080/"
        },
        "id": "Gffp137M1f7V",
        "outputId": "a5edba4e-3c64-4f9d-ad9a-5c080fc8c43b"
      },
      "execution_count": null,
      "outputs": [
        {
          "output_type": "execute_result",
          "data": {
            "text/plain": [
              "tag\n",
              "NO TAGST    33.152769\n",
              "6EE1679     17.212759\n",
              "URX4846     16.187557\n",
              "RR5H74      16.154711\n",
              "A334199     15.468744\n",
              "9DR2114     14.017316\n",
              "4CXM25      12.774937\n",
              "8DW4455     12.021750\n",
              "2CC3046     11.195680\n",
              "A354123      6.451793\n",
              "Name: violfine, dtype: float64"
            ]
          },
          "metadata": {},
          "execution_count": 211
        }
      ]
    },
    {
      "cell_type": "markdown",
      "metadata": {
        "id": "uMyqNcJvz6PP"
      },
      "source": [
        "###e. Due to accuracy concerns, Baltimore City suspended fixed speed camera enforcement for a multi-year period that is covered by the dataset. Using the data, show when the hiatus began and when citations resumed."
      ]
    },
    {
      "cell_type": "code",
      "execution_count": null,
      "metadata": {
        "id": "mJzC0yuo3PfY",
        "colab": {
          "base_uri": "https://localhost:8080/"
        },
        "outputId": "703950b0-0c3f-40f4-af8e-40872682fc1b"
      },
      "outputs": [
        {
          "output_type": "execute_result",
          "data": {
            "text/plain": [
              "violdate  violdate\n",
              "2009      12              1\n",
              "2010      6               3\n",
              "          7               2\n",
              "          9               3\n",
              "          12              3\n",
              "2011      1              50\n",
              "          2              49\n",
              "          3              60\n",
              "          4              57\n",
              "          5              80\n",
              "          6              79\n",
              "          7              52\n",
              "          8              62\n",
              "          9              50\n",
              "          10             57\n",
              "          11            112\n",
              "          12            112\n",
              "2012      1              91\n",
              "          2              28\n",
              "          3             110\n",
              "          4             124\n",
              "          5             145\n",
              "          6             171\n",
              "          7             170\n",
              "          8             127\n",
              "          9             100\n",
              "          10             40\n",
              "          11             47\n",
              "          12             28\n",
              "2017      7            1674\n",
              "          8           28992\n",
              "          9           22119\n",
              "          10          30926\n",
              "          11          33019\n",
              "          12          23062\n",
              "2018      1           23494\n",
              "          2           20247\n",
              "          3           22468\n",
              "          4           19636\n",
              "Name: citation, dtype: int64"
            ]
          },
          "metadata": {},
          "execution_count": 212
        }
      ],
      "source": [
        "cdf_enforcement_check = cdf.loc[cdf[\"location\"].str.contains(\"Baltimore\") & cdf[\"description\"].isin([\"Fixed Speed Camera\"])].groupby([cdf['violdate'].dt.year, cdf['violdate'].dt.month]).count() # creates a dataframe where Baltimore is specified as the location, and Fixed Speed Camera is specified as the violation, and it is grouped by the date of violation (month and year) into citation counts\n",
        "cdf_enforcement_check[\"citation\"] # displays total number of citations"
      ]
    },
    {
      "cell_type": "markdown",
      "source": [
        "According to the dataset, fixed speed camera enforcement in Baltimore City began hiatus after December of 2012, and enforcement resumed in July of 2017."
      ],
      "metadata": {
        "id": "-l-MSr9F-gHK"
      }
    },
    {
      "cell_type": "markdown",
      "metadata": {
        "id": "d6IapcaWXrmY"
      },
      "source": [
        "##Question 3 (25%)\n",
        "**Frawley, et al., define an 'interesting' pattern as interesting if it is \"novel, useful, and non-trivial to compute.\"  Explore either of the above datasets to identify an interesting pattern.  Describe the pattern and why it is novel, useful, and non-trivial.**\n",
        "\n",
        "Note: this question does not require code.  Submit your response as text within the notebook, or as a Word document if you prefer."
      ]
    },
    {
      "cell_type": "code",
      "source": [
        "wdf_agg = wdf.groupby('date').mean()\n",
        "wdf_agg.reset_index(level=0, inplace=True)\n",
        "wdf_agg.plot(x=\"date\", y=\"tmp_meas\")\n",
        "plt.xlabel(\"Date\",  size = 10)\n",
        "plt.ylabel(\"Average Monthly Temp\", size = 10)"
      ],
      "metadata": {
        "colab": {
          "base_uri": "https://localhost:8080/",
          "height": 297
        },
        "id": "-pGCivtpjve6",
        "outputId": "35e2e3eb-cb47-4bd9-9916-92eb7d12de8b"
      },
      "execution_count": null,
      "outputs": [
        {
          "output_type": "execute_result",
          "data": {
            "text/plain": [
              "Text(0, 0.5, 'Average Monthly Temp')"
            ]
          },
          "metadata": {},
          "execution_count": 223
        },
        {
          "output_type": "display_data",
          "data": {
            "text/plain": [
              "<Figure size 432x288 with 1 Axes>"
            ],
            "image/png": "[encoded data removed]"
          },
          "metadata": {
            "needs_background": "light"
          }
        }
      ]
    },
    {
      "cell_type": "markdown",
      "metadata": {
        "id": "dniBGmm53RHI"
      },
      "source": [
        "The average monthly temperature over time is an interesting pattern. It is novel because it shows the average variation in monthly temperature over a multiyear period. It is useful because it is a pattern that can be used to further analyze climate data that follow these patterns in other datasets. It is non-trivial because it can be used to develop a model for predicting monthly temperature trends in the future."
      ]
    },
    {
      "cell_type": "markdown",
      "metadata": {
        "id": "K8_yFjGq2unN"
      },
      "source": [
        "# Question 4 (25%)\n",
        "**Machine Learning, Safety, and Fairness** Review the source materials for one of the examples of unfairness in machine learning discussed in class, and answer the following questions.  \n",
        "\n",
        "(a) Mehrabi et al. define fairness in machine learning as ``absence of any prejudice or favoritism toward an individual or group based on\n",
        "their inherent or acquired characteristics''.  Using this definition, how does the application of the machine learning approach result in an unfair outcome?\n",
        "\n",
        "(b) What practices, if any, mitigated the impact of the algorithm's unfairness?\n",
        "\n",
        "(c) What lessons can be learned from this example?\n"
      ]
    },
    {
      "cell_type": "markdown",
      "metadata": {
        "id": "1Z5BZ8pp3Sxh"
      },
      "source": [
        "(a). The Amazon recruitment model's application of machine learning resulted in an unfair outcome because there was not an absence of prejudice or favoritism. The model's bias against female job candidates showed that the algorithm itself had bias somehow, and that caused the issue. The main cause of this was a vague business objective that only selected resumes rated at a certain level by the algorithm.\n",
        "\n",
        "(b). The removal of gendered language from applications was attempted to mitigate the impact of the unfairness. However, this was not successful in removing the bias, so the project was scrapped in the end.\n",
        "\n",
        "(c). Lessons that could be learned from this example are that a clear and multi-level business objective is important in algorithm development. The more failsafes that are included in an algorithm, the more likely it is to work in the intended fashion. Also, it is important that professionals with knowledge of the process that is being automated by machine learning are involved in algorithm development. That allows for the business objective to be followed in a similar way to the previously human-driven processes that are being automated."
      ]
    }
  ],
  "metadata": {
    "colab": {
      "provenance": [],
      "include_colab_link": true
    },
    "kernelspec": {
      "display_name": "Python 3",
      "name": "python3"
    },
    "language_info": {
      "name": "python"
    }
  },
  "nbformat": 4,
  "nbformat_minor": 0
}