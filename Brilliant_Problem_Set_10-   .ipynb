{
  "nbformat": 4,
  "nbformat_minor": 0,
  "metadata": {
    "colab": {
      "provenance": [],
      "machine_shape": "hm",
      "gpuType": "T4",
      "include_colab_link": true
    },
    "kernelspec": {
      "name": "python3",
      "display_name": "Python 3"
    },
    "language_info": {
      "name": "python"
    },
    "accelerator": "GPU",
    "gpuClass": "standard"
  },
  "cells": [
    {
      "cell_type": "markdown",
      "metadata": {
        "id": "view-in-github",
        "colab_type": "text"
      },
      "source": [
        "<a href=\"https://colab.research.google.com/github/DanB1421/DATA602/blob/main/Brilliant_Problem_Set_10-%20%20%20.ipynb\" target=\"_parent\"><img src=\"https://colab.research.google.com/assets/colab-badge.svg\" alt=\"Open In Colab\"/></a>"
      ]
    },
    {
      "cell_type": "markdown",
      "metadata": {
        "id": "TXR-TGD96sIJ"
      },
      "source": [
        "# Problem 1 -- Generate the model\n",
        "\n",
        "Write a function:\n",
        "\n",
        "    build_network(nslayers, n_neurons_per_layer, activation_fn)\n",
        "\n",
        "The function should return a compiled model with the following structure:\n",
        "* An Input node accepting an image of dimensions $28\\times28$\n",
        "* A Flatten node\n",
        "* $n$ hidden layer nodes, each containing `n_neurons_per_layer` neurons and using the activation function `activation_fn`.\n",
        "* An output layer (Dense layer) of 10 neurons that uses the softmax activation function.\n",
        "\n",
        "\n",
        "The model should be compiled as such:\n",
        "* Optimizer: sgd\n",
        "* metrics: `[\"accuracy\"]`\n",
        "* loss: `sparse_categorical_crossentropy` (since the target variable is represented as a single value, as opposed to being one-hot encoded)\n",
        "\n"
      ]
    },
    {
      "cell_type": "code",
      "metadata": {
        "id": "Lr7SAR056qTL",
        "colab": {
          "base_uri": "https://localhost:8080/"
        },
        "outputId": "f46a0e94-8f85-4a09-e173-2c392e8b26bf"
      },
      "source": [
        "import tensorflow as tf\n",
        "import tensorflow.keras as keras\n",
        "from tensorflow.keras.layers import Dense, Input, Flatten\n",
        "from tensorflow.keras.models import Sequential\n",
        "from tensorflow.keras.datasets import mnist\n",
        "from tensorflow.keras.callbacks import EarlyStopping\n",
        "!pip install scikit-optimize\n",
        "import skopt\n",
        "import skopt.space as sp\n",
        "import matplotlib.pyplot as plt\n",
        "import numpy as np"
      ],
      "execution_count": null,
      "outputs": [
        {
          "output_type": "stream",
          "name": "stdout",
          "text": [
            "Looking in indexes: https://pypi.org/simple, https://us-python.pkg.dev/colab-wheels/public/simple/\n",
            "Collecting scikit-optimize\n",
            "  Downloading scikit_optimize-0.9.0-py2.py3-none-any.whl (100 kB)\n",
            "\u001b[2K     \u001b[90m━━━━━━━━━━━━━━━━━━━━━━━━━━━━━━━━━━━━━━\u001b[0m \u001b[32m100.3/100.3 kB\u001b[0m \u001b[31m12.2 MB/s\u001b[0m eta \u001b[36m0:00:00\u001b[0m\n",
            "\u001b[?25hRequirement already satisfied: joblib>=0.11 in /usr/local/lib/python3.10/dist-packages (from scikit-optimize) (1.2.0)\n",
            "Collecting pyaml>=16.9 (from scikit-optimize)\n",
            "  Downloading pyaml-23.5.8-py3-none-any.whl (17 kB)\n",
            "Requirement already satisfied: numpy>=1.13.3 in /usr/local/lib/python3.10/dist-packages (from scikit-optimize) (1.22.4)\n",
            "Requirement already satisfied: scipy>=0.19.1 in /usr/local/lib/python3.10/dist-packages (from scikit-optimize) (1.10.1)\n",
            "Requirement already satisfied: scikit-learn>=0.20.0 in /usr/local/lib/python3.10/dist-packages (from scikit-optimize) (1.2.2)\n",
            "Requirement already satisfied: PyYAML in /usr/local/lib/python3.10/dist-packages (from pyaml>=16.9->scikit-optimize) (6.0)\n",
            "Requirement already satisfied: threadpoolctl>=2.0.0 in /usr/local/lib/python3.10/dist-packages (from scikit-learn>=0.20.0->scikit-optimize) (3.1.0)\n",
            "Installing collected packages: pyaml, scikit-optimize\n",
            "Successfully installed pyaml-23.5.8 scikit-optimize-0.9.0\n"
          ]
        }
      ]
    },
    {
      "cell_type": "code",
      "source": [
        "def build_network(nslayers, n_neurons_per_layer, activation_fn):\n",
        "    model = Sequential()\n",
        "    model.add(Input(shape=(28,28)))\n",
        "    model.add(Flatten())\n",
        "    for i in range(nslayers):\n",
        "        model.add(Dense(n_neurons_per_layer, activation=activation_fn))\n",
        "    model.add(Dense(10, activation='softmax'))\n",
        "    model.compile(\"sgd\", \"sparse_categorical_crossentropy\", [\"accuracy\"])\n",
        "    return model"
      ],
      "metadata": {
        "id": "EROh2iw1oOPR"
      },
      "execution_count": null,
      "outputs": []
    },
    {
      "cell_type": "markdown",
      "metadata": {
        "id": "tVq6hsLB7YN6"
      },
      "source": [
        "## Problem 2 -- Load the keras MNIST dataset.\n",
        "\n",
        "Call `keras.datasets.mnist.load_data(\"mnist.npz\")`, which returns\n",
        "`(X_train, y_train), (X_test, y_test)`.  Split the training dataset into a training and validation set."
      ]
    },
    {
      "cell_type": "code",
      "source": [
        "(X_train, y_train), (X_test, y_test) = keras.datasets.mnist.load_data(\"mnist.npz\")"
      ],
      "metadata": {
        "id": "Sv2rKIRDoPSE",
        "colab": {
          "base_uri": "https://localhost:8080/"
        },
        "outputId": "c15ea3e1-29fd-4c03-d538-abbe0cf85661"
      },
      "execution_count": null,
      "outputs": [
        {
          "output_type": "stream",
          "name": "stdout",
          "text": [
            "Downloading data from https://storage.googleapis.com/tensorflow/tf-keras-datasets/mnist.npz\n",
            "11490434/11490434 [==============================] - 2s 0us/step\n"
          ]
        }
      ]
    },
    {
      "cell_type": "code",
      "source": [
        "preprocess = lambda k: k/255.0\n",
        "X_train = preprocess(X_train)\n",
        "X_test = preprocess(X_test)\n",
        "\n",
        "X_train, X_val, y_train, y_val = train_test_split(X_train, y_train, test_size=5000)"
      ],
      "metadata": {
        "id": "Qf0jy80dom4R"
      },
      "execution_count": null,
      "outputs": []
    },
    {
      "cell_type": "markdown",
      "metadata": {
        "id": "ianjKMjq70OS"
      },
      "source": [
        "#Problem 3 -- Train the model.\n",
        "\n",
        "Call `build_network` with parameters of your choice (4-8 layers, 50-150 neurons per layer, and ReLU activation (`relu`) is a reasonable starting point.)  Train the model against the training dataset.  To reduce training time, an early stopping callback is advised.  Evaluate the model using the validation dataset.  What is the prediction accuracy of the neural net?"
      ]
    },
    {
      "cell_type": "code",
      "metadata": {
        "id": "Tyz82J3q8Bxk",
        "colab": {
          "base_uri": "https://localhost:8080/"
        },
        "outputId": "00f4f19f-f252-4d98-f2cb-e654d19ea6b3"
      },
      "source": [
        "model = build_network(4, 50, \"relu\")\n",
        "model.summary()"
      ],
      "execution_count": null,
      "outputs": [
        {
          "output_type": "stream",
          "name": "stdout",
          "text": [
            "Model: \"sequential\"\n",
            "_________________________________________________________________\n",
            " Layer (type)                Output Shape              Param #   \n",
            "=================================================================\n",
            " flatten (Flatten)           (None, 784)               0         \n",
            "                                                                 \n",
            " dense (Dense)               (None, 50)                39250     \n",
            "                                                                 \n",
            " dense_1 (Dense)             (None, 50)                2550      \n",
            "                                                                 \n",
            " dense_2 (Dense)             (None, 50)                2550      \n",
            "                                                                 \n",
            " dense_3 (Dense)             (None, 50)                2550      \n",
            "                                                                 \n",
            " dense_4 (Dense)             (None, 10)                510       \n",
            "                                                                 \n",
            "=================================================================\n",
            "Total params: 47,410\n",
            "Trainable params: 47,410\n",
            "Non-trainable params: 0\n",
            "_________________________________________________________________\n"
          ]
        }
      ]
    },
    {
      "cell_type": "code",
      "source": [
        "model.fit(X_train, y_train)"
      ],
      "metadata": {
        "colab": {
          "base_uri": "https://localhost:8080/"
        },
        "id": "TkRnV3FKzSlf",
        "outputId": "dd31a300-8a58-4d2b-f8b5-66a829a8c9b9"
      },
      "execution_count": null,
      "outputs": [
        {
          "output_type": "stream",
          "name": "stdout",
          "text": [
            "1719/1719 [==============================] - 10s 3ms/step - loss: 0.9484 - accuracy: 0.7015\n"
          ]
        },
        {
          "output_type": "execute_result",
          "data": {
            "text/plain": [
              "<keras.callbacks.History at 0x7fb3f73374c0>"
            ]
          },
          "metadata": {},
          "execution_count": 6
        }
      ]
    },
    {
      "cell_type": "code",
      "source": [
        "early_stopping_cb = EarlyStopping(monitor='val_loss',\n",
        "                                  min_delta = 0.001,\n",
        "                                  patience=3)\n",
        "history = model.fit(X_train, y_train,\n",
        "                    epochs=15,\n",
        "                    batch_size=32,\n",
        "                    callbacks=[early_stopping_cb],\n",
        "                    validation_data=(X_val, y_val))"
      ],
      "metadata": {
        "colab": {
          "base_uri": "https://localhost:8080/"
        },
        "id": "Y2GtzRLfytKZ",
        "outputId": "1fc9cb44-c58e-4808-8154-38b7bc2e4345"
      },
      "execution_count": null,
      "outputs": [
        {
          "output_type": "stream",
          "name": "stdout",
          "text": [
            "Epoch 1/15\n",
            "1719/1719 [==============================] - 5s 3ms/step - loss: 0.0636 - accuracy: 0.9806 - val_loss: 0.1112 - val_accuracy: 0.9674\n",
            "Epoch 2/15\n",
            "1719/1719 [==============================] - 5s 3ms/step - loss: 0.0591 - accuracy: 0.9823 - val_loss: 0.0974 - val_accuracy: 0.9734\n",
            "Epoch 3/15\n",
            "1719/1719 [==============================] - 5s 3ms/step - loss: 0.0549 - accuracy: 0.9827 - val_loss: 0.1045 - val_accuracy: 0.9714\n",
            "Epoch 4/15\n",
            "1719/1719 [==============================] - 5s 3ms/step - loss: 0.0533 - accuracy: 0.9833 - val_loss: 0.1017 - val_accuracy: 0.9720\n",
            "Epoch 5/15\n",
            "1719/1719 [==============================] - 5s 3ms/step - loss: 0.0509 - accuracy: 0.9839 - val_loss: 0.1035 - val_accuracy: 0.9718\n"
          ]
        }
      ]
    },
    {
      "cell_type": "code",
      "source": [
        "loss, accuracy = model.evaluate(X_val, y_val)\n",
        "print(f\"validation accuracy: {accuracy:0.4f}\")"
      ],
      "metadata": {
        "colab": {
          "base_uri": "https://localhost:8080/"
        },
        "id": "Pqw9xAsnHuqM",
        "outputId": "1cd3a2a3-063e-40d9-c520-5b693c7b5be6"
      },
      "execution_count": null,
      "outputs": [
        {
          "output_type": "stream",
          "name": "stdout",
          "text": [
            "157/157 [==============================] - 0s 2ms/step - loss: 0.1035 - accuracy: 0.9718\n",
            "validation accuracy: 0.9718\n"
          ]
        }
      ]
    },
    {
      "cell_type": "markdown",
      "source": [
        "The prediction accuracy of the neural network using validation is 0.9718."
      ],
      "metadata": {
        "id": "ZN3Zwoff1VaN"
      }
    },
    {
      "cell_type": "markdown",
      "metadata": {
        "id": "jKwnTckh8CAz"
      },
      "source": [
        "#Problem 4 -- Optimize the model.\n",
        "\n",
        "Use one of the hyperparameter optimization frameworks discussed in class, such as scikit-optimize, to find an optimal values of the number of layers, activation function, and neurons per layer for this neural network.  Use a budget of about 20 runs.  Use the below tables as rough guidelines for the parameter space.\n",
        "\n",
        "|Parameter|Space ($\\Lambda_n$)|\n",
        "|---------|----|\n",
        "|Activation function|`relu`, `sigmoid`|\n",
        "|Number of layers|~2-20 (integer, uniform)|\n",
        "|Number of neurons per layers|10-300 (integer, log distributed)|\n",
        "\n",
        "What combination of parameters ($\\lambda$) produces the highest accuracy, and what is that accuracy?\n",
        "\n",
        "\n",
        "\n"
      ]
    },
    {
      "cell_type": "code",
      "source": [
        "from hyperopt import (fmin, hp, tpe, Trials, STATUS_OK, STATUS_FAIL)\n",
        "import time\n",
        "import numpy as np\n",
        "\n",
        "def hyperopt_objective(args):\n",
        "  act_fn, n_layer, n_neurons = [args[k] for k in ['activation', 'n_layers', 'neurons_per_layer']]\n",
        "  n_layer, n_neurons = [int(k) for k in [n_layer, n_neurons]]\n",
        "  model = build_network(n_layer, n_neurons, act_fn)\n",
        "  model.fit(X_train,\n",
        "            y_train,\n",
        "            epochs=20,\n",
        "            callbacks=[early_stopping_cb],\n",
        "            validation_split=0.2,\n",
        "            verbose=0)\n",
        "  _, accuracy = model.evaluate(X_val, y_val, verbose=0)\n",
        "  return {'loss': -accuracy,\n",
        "            'time': time.time(),\n",
        "            'status': STATUS_OK,\n",
        "            'model': model}"
      ],
      "metadata": {
        "id": "MZA5i2vTSaa2"
      },
      "execution_count": null,
      "outputs": []
    },
    {
      "cell_type": "code",
      "source": [
        "trials = Trials()\n",
        "fmin(\n",
        "        hyperopt_objective,\n",
        "        {\n",
        "          'activation': hp.choice('activation', [\"relu\", \"sigmoid\"]),\n",
        "          'n_layers': hp.quniform(\"n_layers\", 2, 20, 1),\n",
        "          'neurons_per_layer': hp.quniform(\"neurons_per_layer\", 10, 300, 1)\n",
        "        },\n",
        "        algo=tpe.suggest,\n",
        "        max_evals=20,\n",
        "        verbose=0,\n",
        "        trials=trials,\n",
        "        show_progressbar=True\n",
        ")\n",
        "print(trials)\n",
        "print(trials.best_trial)"
      ],
      "metadata": {
        "colab": {
          "base_uri": "https://localhost:8080/"
        },
        "id": "5JMQGrw9F7hb",
        "outputId": "0cf516e3-af90-42d8-f24f-8f96b824c968"
      },
      "execution_count": null,
      "outputs": [
        {
          "output_type": "stream",
          "name": "stdout",
          "text": [
            "<hyperopt.base.Trials object at 0x7fb3c0684fa0>\n",
            "{'state': 2, 'tid': 5, 'spec': None, 'result': {'loss': -0.9714000225067139, 'time': 1683730766.3877177, 'status': 'ok', 'model': <keras.engine.sequential.Sequential object at 0x7fb2e3b2bac0>}, 'misc': {'tid': 5, 'cmd': ('domain_attachment', 'FMinIter_Domain'), 'workdir': None, 'idxs': {'activation': [5], 'n_layers': [5], 'neurons_per_layer': [5]}, 'vals': {'activation': [0], 'n_layers': [18.0], 'neurons_per_layer': [218.0]}}, 'exp_key': None, 'owner': None, 'version': 0, 'book_time': datetime.datetime(2023, 5, 10, 14, 57, 2, 422000), 'refresh_time': datetime.datetime(2023, 5, 10, 14, 59, 26, 387000)}\n"
          ]
        }
      ]
    },
    {
      "cell_type": "code",
      "source": [
        "best_model = trials.best_trial['result']['model']\n",
        "loss, accuracy = best_model.evaluate(X_val, y_val)\n",
        "print(f\"validation accuracy: {accuracy:0.4f}\")"
      ],
      "metadata": {
        "colab": {
          "base_uri": "https://localhost:8080/"
        },
        "id": "y9jbRGiIF9pL",
        "outputId": "af2a97b7-3ff4-4f91-b83d-86dc97dc7519"
      },
      "execution_count": null,
      "outputs": [
        {
          "output_type": "stream",
          "name": "stdout",
          "text": [
            "157/157 [==============================] - 0s 2ms/step - loss: 0.1241 - accuracy: 0.9714\n",
            "validation accuracy: 0.9714\n"
          ]
        }
      ]
    },
    {
      "cell_type": "markdown",
      "source": [
        "The optimal values are 18 layers, 218 neurons per layer, and a relu activation function."
      ],
      "metadata": {
        "id": "4PwEyXQ5UoVs"
      }
    }
  ]
}