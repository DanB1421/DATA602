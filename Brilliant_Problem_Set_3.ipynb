{
  "nbformat": 4,
  "nbformat_minor": 0,
  "metadata": {
    "colab": {
      "provenance": [],
      "include_colab_link": true
    },
    "kernelspec": {
      "name": "python3",
      "display_name": "Python 3"
    },
    "language_info": {
      "name": "python"
    }
  },
  "cells": [
    {
      "cell_type": "markdown",
      "metadata": {
        "id": "view-in-github",
        "colab_type": "text"
      },
      "source": [
        "<a href=\"https://colab.research.google.com/github/DanB1421/DATA602/blob/main/Brilliant_Problem_Set_3.ipynb\" target=\"_parent\"><img src=\"https://colab.research.google.com/assets/colab-badge.svg\" alt=\"Open In Colab\"/></a>"
      ]
    },
    {
      "cell_type": "markdown",
      "metadata": {
        "id": "wxKNgUhRLAwD"
      },
      "source": [
        "# Problem Set 3"
      ]
    },
    {
      "cell_type": "markdown",
      "metadata": {
        "id": "nS4C_IlTLEvi"
      },
      "source": [
        "## Preparation"
      ]
    },
    {
      "cell_type": "code",
      "metadata": {
        "id": "bQfLZodhATzm"
      },
      "source": [
        "import pandas as pd\n",
        "import numpy as np\n",
        "import matplotlib.pyplot as plt\n",
        "import seaborn as sns\n",
        "from datetime import datetime\n",
        "import pytz"
      ],
      "execution_count": null,
      "outputs": []
    },
    {
      "cell_type": "markdown",
      "metadata": {
        "id": "I5jS0IbE9Lj7"
      },
      "source": [
        "###Import data"
      ]
    },
    {
      "cell_type": "code",
      "metadata": {
        "colab": {
          "base_uri": "https://localhost:8080/"
        },
        "id": "bxyfs1edBLuT",
        "outputId": "d4ac3b0a-c62f-4c2c-8890-6ce7ecc54e42"
      },
      "source": [
        "from google.colab import drive\n",
        "drive.mount(\"/content/drive\")\n",
        "!mkdir -p datashim\n",
        "!cp /content/drive/Shareddrives/DS602-F22/Data/data602.py ./datashim\n",
        "from datashim import data602"
      ],
      "execution_count": null,
      "outputs": [
        {
          "output_type": "stream",
          "name": "stdout",
          "text": [
            "Mounted at /content/drive\n"
          ]
        }
      ]
    },
    {
      "cell_type": "code",
      "metadata": {
        "id": "k6KwqWpM5VqR"
      },
      "source": [
        "wdf = data602.read_weather()\n",
        "cdf = data602.read_citations()"
      ],
      "execution_count": null,
      "outputs": []
    },
    {
      "cell_type": "markdown",
      "metadata": {
        "id": "ukRW9IhlWBbt"
      },
      "source": [
        "# Question 1 -- Statistical data visualization\n",
        "In the first assignment, problem 3, you identified an ``interesting'' pattern in the weather or citations dataset.  Recall that discovered knowledge should be novel, useful, and non-trivial.  Develop a explanatory visualization to present the knowledge you discovered.  (You may choose a different pattern from the one you used in the first homework assignment if you wish.)"
      ]
    },
    {
      "cell_type": "code",
      "source": [
        "wdf.head() # displayed first 5 values of the wdf data set"
      ],
      "metadata": {
        "id": "bW-RcZgBC_kF",
        "colab": {
          "base_uri": "https://localhost:8080/",
          "height": 206
        },
        "outputId": "63eaa36c-6116-4908-d1c3-e6fdd65159eb"
      },
      "execution_count": null,
      "outputs": [
        {
          "output_type": "execute_result",
          "data": {
            "text/plain": [
              "                       date  wnd_speed  tmp_meas  precip  precip_intensity  \\\n",
              "0 2015-12-31 19:54:00-05:00        1.5       7.2     0.0                 0   \n",
              "1 2015-12-31 20:54:00-05:00        3.1       6.1     0.0                 0   \n",
              "2 2015-12-31 21:54:00-05:00        2.1       6.7     0.0                 0   \n",
              "3 2015-12-31 22:54:00-05:00        2.6       6.1     0.0                 0   \n",
              "4 2015-12-31 23:54:00-05:00        2.1       5.6     0.0                 0   \n",
              "\n",
              "   cloudcover  tstorm  winter  mist  fog  \n",
              "0         4.0       0       0     0    0  \n",
              "1         4.0       0       0     0    0  \n",
              "2         4.0       0       0     0    0  \n",
              "3         4.0       0       0     0    0  \n",
              "4         4.0       0       0     0    0  "
            ],
            "text/html": [
              "\n",
              "  <div id=\"df-e68be0b1-a3be-4609-baa6-dafaece66b4b\">\n",
              "    <div class=\"colab-df-container\">\n",
              "      <div>\n",
              "<style scoped>\n",
              "    .dataframe tbody tr th:only-of-type {\n",
              "        vertical-align: middle;\n",
              "    }\n",
              "\n",
              "    .dataframe tbody tr th {\n",
              "        vertical-align: top;\n",
              "    }\n",
              "\n",
              "    .dataframe thead th {\n",
              "        text-align: right;\n",
              "    }\n",
              "</style>\n",
              "<table border=\"1\" class=\"dataframe\">\n",
              "  <thead>\n",
              "    <tr style=\"text-align: right;\">\n",
              "      <th></th>\n",
              "      <th>date</th>\n",
              "      <th>wnd_speed</th>\n",
              "      <th>tmp_meas</th>\n",
              "      <th>precip</th>\n",
              "      <th>precip_intensity</th>\n",
              "      <th>cloudcover</th>\n",
              "      <th>tstorm</th>\n",
              "      <th>winter</th>\n",
              "      <th>mist</th>\n",
              "      <th>fog</th>\n",
              "    </tr>\n",
              "  </thead>\n",
              "  <tbody>\n",
              "    <tr>\n",
              "      <th>0</th>\n",
              "      <td>2015-12-31 19:54:00-05:00</td>\n",
              "      <td>1.5</td>\n",
              "      <td>7.2</td>\n",
              "      <td>0.0</td>\n",
              "      <td>0</td>\n",
              "      <td>4.0</td>\n",
              "      <td>0</td>\n",
              "      <td>0</td>\n",
              "      <td>0</td>\n",
              "      <td>0</td>\n",
              "    </tr>\n",
              "    <tr>\n",
              "      <th>1</th>\n",
              "      <td>2015-12-31 20:54:00-05:00</td>\n",
              "      <td>3.1</td>\n",
              "      <td>6.1</td>\n",
              "      <td>0.0</td>\n",
              "      <td>0</td>\n",
              "      <td>4.0</td>\n",
              "      <td>0</td>\n",
              "      <td>0</td>\n",
              "      <td>0</td>\n",
              "      <td>0</td>\n",
              "    </tr>\n",
              "    <tr>\n",
              "      <th>2</th>\n",
              "      <td>2015-12-31 21:54:00-05:00</td>\n",
              "      <td>2.1</td>\n",
              "      <td>6.7</td>\n",
              "      <td>0.0</td>\n",
              "      <td>0</td>\n",
              "      <td>4.0</td>\n",
              "      <td>0</td>\n",
              "      <td>0</td>\n",
              "      <td>0</td>\n",
              "      <td>0</td>\n",
              "    </tr>\n",
              "    <tr>\n",
              "      <th>3</th>\n",
              "      <td>2015-12-31 22:54:00-05:00</td>\n",
              "      <td>2.6</td>\n",
              "      <td>6.1</td>\n",
              "      <td>0.0</td>\n",
              "      <td>0</td>\n",
              "      <td>4.0</td>\n",
              "      <td>0</td>\n",
              "      <td>0</td>\n",
              "      <td>0</td>\n",
              "      <td>0</td>\n",
              "    </tr>\n",
              "    <tr>\n",
              "      <th>4</th>\n",
              "      <td>2015-12-31 23:54:00-05:00</td>\n",
              "      <td>2.1</td>\n",
              "      <td>5.6</td>\n",
              "      <td>0.0</td>\n",
              "      <td>0</td>\n",
              "      <td>4.0</td>\n",
              "      <td>0</td>\n",
              "      <td>0</td>\n",
              "      <td>0</td>\n",
              "      <td>0</td>\n",
              "    </tr>\n",
              "  </tbody>\n",
              "</table>\n",
              "</div>\n",
              "      <button class=\"colab-df-convert\" onclick=\"convertToInteractive('df-e68be0b1-a3be-4609-baa6-dafaece66b4b')\"\n",
              "              title=\"Convert this dataframe to an interactive table.\"\n",
              "              style=\"display:none;\">\n",
              "        \n",
              "  <svg xmlns=\"http://www.w3.org/2000/svg\" height=\"24px\"viewBox=\"0 0 24 24\"\n",
              "       width=\"24px\">\n",
              "    <path d=\"M0 0h24v24H0V0z\" fill=\"none\"/>\n",
              "    <path d=\"M18.56 5.44l.94 2.06.94-2.06 2.06-.94-2.06-.94-.94-2.06-.94 2.06-2.06.94zm-11 1L8.5 8.5l.94-2.06 2.06-.94-2.06-.94L8.5 2.5l-.94 2.06-2.06.94zm10 10l.94 2.06.94-2.06 2.06-.94-2.06-.94-.94-2.06-.94 2.06-2.06.94z\"/><path d=\"M17.41 7.96l-1.37-1.37c-.4-.4-.92-.59-1.43-.59-.52 0-1.04.2-1.43.59L10.3 9.45l-7.72 7.72c-.78.78-.78 2.05 0 2.83L4 21.41c.39.39.9.59 1.41.59.51 0 1.02-.2 1.41-.59l7.78-7.78 2.81-2.81c.8-.78.8-2.07 0-2.86zM5.41 20L4 18.59l7.72-7.72 1.47 1.35L5.41 20z\"/>\n",
              "  </svg>\n",
              "      </button>\n",
              "      \n",
              "  <style>\n",
              "    .colab-df-container {\n",
              "      display:flex;\n",
              "      flex-wrap:wrap;\n",
              "      gap: 12px;\n",
              "    }\n",
              "\n",
              "    .colab-df-convert {\n",
              "      background-color: #E8F0FE;\n",
              "      border: none;\n",
              "      border-radius: 50%;\n",
              "      cursor: pointer;\n",
              "      display: none;\n",
              "      fill: #1967D2;\n",
              "      height: 32px;\n",
              "      padding: 0 0 0 0;\n",
              "      width: 32px;\n",
              "    }\n",
              "\n",
              "    .colab-df-convert:hover {\n",
              "      background-color: #E2EBFA;\n",
              "      box-shadow: 0px 1px 2px rgba(60, 64, 67, 0.3), 0px 1px 3px 1px rgba(60, 64, 67, 0.15);\n",
              "      fill: #174EA6;\n",
              "    }\n",
              "\n",
              "    [theme=dark] .colab-df-convert {\n",
              "      background-color: #3B4455;\n",
              "      fill: #D2E3FC;\n",
              "    }\n",
              "\n",
              "    [theme=dark] .colab-df-convert:hover {\n",
              "      background-color: #434B5C;\n",
              "      box-shadow: 0px 1px 3px 1px rgba(0, 0, 0, 0.15);\n",
              "      filter: drop-shadow(0px 1px 2px rgba(0, 0, 0, 0.3));\n",
              "      fill: #FFFFFF;\n",
              "    }\n",
              "  </style>\n",
              "\n",
              "      <script>\n",
              "        const buttonEl =\n",
              "          document.querySelector('#df-e68be0b1-a3be-4609-baa6-dafaece66b4b button.colab-df-convert');\n",
              "        buttonEl.style.display =\n",
              "          google.colab.kernel.accessAllowed ? 'block' : 'none';\n",
              "\n",
              "        async function convertToInteractive(key) {\n",
              "          const element = document.querySelector('#df-e68be0b1-a3be-4609-baa6-dafaece66b4b');\n",
              "          const dataTable =\n",
              "            await google.colab.kernel.invokeFunction('convertToInteractive',\n",
              "                                                     [key], {});\n",
              "          if (!dataTable) return;\n",
              "\n",
              "          const docLinkHtml = 'Like what you see? Visit the ' +\n",
              "            '<a target=\"_blank\" href=https://colab.research.google.com/notebooks/data_table.ipynb>data table notebook</a>'\n",
              "            + ' to learn more about interactive tables.';\n",
              "          element.innerHTML = '';\n",
              "          dataTable['output_type'] = 'display_data';\n",
              "          await google.colab.output.renderOutput(dataTable, element);\n",
              "          const docLink = document.createElement('div');\n",
              "          docLink.innerHTML = docLinkHtml;\n",
              "          element.appendChild(docLink);\n",
              "        }\n",
              "      </script>\n",
              "    </div>\n",
              "  </div>\n",
              "  "
            ]
          },
          "metadata": {},
          "execution_count": 5
        }
      ]
    },
    {
      "cell_type": "code",
      "source": [
        "wdf_agg = wdf.groupby(pd.PeriodIndex(wdf['date'], freq=\"M\")).mean() # created new dataframe grouping by monthly average temperature, method found here: https://stackoverflow.com/questions/65471540/get-monthly-average-in-pandas\n",
        "wdf_agg.reset_index(level=0, inplace=True) # reset index to create date as a column\n",
        "wdf_agg.plot(x=\"date\", y=\"tmp_meas\") # plot time series of date and average monthly temperature\n",
        "plt.xlabel(\"Date\",  size = 10) # labeled plot \"Date\" on the x axis\n",
        "plt.ylabel(\"Average Monthly Temp\", size = 10) # labeled plot \"Average Monthly Temp\" on the y axis\n",
        "plt.title(\"Average Monthly Temperature Variation over Time\")"
      ],
      "metadata": {
        "colab": {
          "base_uri": "https://localhost:8080/",
          "height": 313
        },
        "id": "zarOVnhrUaJ1",
        "outputId": "1fd0196f-32dd-45e3-dbb6-cff265290b52"
      },
      "execution_count": null,
      "outputs": [
        {
          "output_type": "execute_result",
          "data": {
            "text/plain": [
              "Text(0.5, 1.0, 'Average Monthly Temperature Variation over Time')"
            ]
          },
          "metadata": {},
          "execution_count": 6
        },
        {
          "output_type": "display_data",
          "data": {
            "text/plain": [
              "<Figure size 432x288 with 1 Axes>"
            ],
            "image/png": "[encoded data removed]"
          },
          "metadata": {
            "needs_background": "light"
          }
        }
      ]
    },
    {
      "cell_type": "markdown",
      "source": [
        "#Question 2 -- Data preparation\n",
        "\n",
        "This problem uses the weather dataset from previous problem sets.  Prepare a dataset to predict the observed temperature from the following predictors:\n",
        "\n",
        "* The non-temperature fields from the observation\n",
        "* The temperature recorded in the prior observation\n",
        "\n",
        "Beginning with the weather dataset:\n",
        "\n",
        "a. Using imputation, replace missing values on temperature (`tmp_meas`) with reasonable non-missing values.  Then, add the temperature from the prior reading as a new feature.  That is, for each observation at time $t_k$, $k>0$, the new feature should have the value of the temperature reading at time $t_{k-1}$.  For the first observation ($k=0$), the value should be missing because the prior temperature is unknown.\n"
      ],
      "metadata": {
        "id": "--feTK_aDAm8"
      }
    },
    {
      "cell_type": "code",
      "source": [
        "wdf_null_tmp = wdf[wdf['tmp_meas'].isnull()] # finds rows containing null tmp_meas values\n",
        "wdf_null_tmp # displays null tmp_meas rows"
      ],
      "metadata": {
        "id": "velz7IrjDUl2",
        "colab": {
          "base_uri": "https://localhost:8080/",
          "height": 112
        },
        "outputId": "4bfc9dc2-0000-4815-a228-01c2bd099009"
      },
      "execution_count": null,
      "outputs": [
        {
          "output_type": "execute_result",
          "data": {
            "text/plain": [
              "                           date  wnd_speed  tmp_meas  precip  \\\n",
              "7767  2016-11-19 12:54:00-05:00        4.6       NaN     0.0   \n",
              "45611 2021-03-16 00:54:00-04:00        NaN       NaN     0.0   \n",
              "\n",
              "       precip_intensity  cloudcover  tstorm  winter  mist  fog  \n",
              "7767                  0         1.0       0       0     0    0  \n",
              "45611                 0         NaN       0       0     0    0  "
            ],
            "text/html": [
              "\n",
              "  <div id=\"df-d284868c-76b7-4089-a25f-bdf02577d0b8\">\n",
              "    <div class=\"colab-df-container\">\n",
              "      <div>\n",
              "<style scoped>\n",
              "    .dataframe tbody tr th:only-of-type {\n",
              "        vertical-align: middle;\n",
              "    }\n",
              "\n",
              "    .dataframe tbody tr th {\n",
              "        vertical-align: top;\n",
              "    }\n",
              "\n",
              "    .dataframe thead th {\n",
              "        text-align: right;\n",
              "    }\n",
              "</style>\n",
              "<table border=\"1\" class=\"dataframe\">\n",
              "  <thead>\n",
              "    <tr style=\"text-align: right;\">\n",
              "      <th></th>\n",
              "      <th>date</th>\n",
              "      <th>wnd_speed</th>\n",
              "      <th>tmp_meas</th>\n",
              "      <th>precip</th>\n",
              "      <th>precip_intensity</th>\n",
              "      <th>cloudcover</th>\n",
              "      <th>tstorm</th>\n",
              "      <th>winter</th>\n",
              "      <th>mist</th>\n",
              "      <th>fog</th>\n",
              "    </tr>\n",
              "  </thead>\n",
              "  <tbody>\n",
              "    <tr>\n",
              "      <th>7767</th>\n",
              "      <td>2016-11-19 12:54:00-05:00</td>\n",
              "      <td>4.6</td>\n",
              "      <td>NaN</td>\n",
              "      <td>0.0</td>\n",
              "      <td>0</td>\n",
              "      <td>1.0</td>\n",
              "      <td>0</td>\n",
              "      <td>0</td>\n",
              "      <td>0</td>\n",
              "      <td>0</td>\n",
              "    </tr>\n",
              "    <tr>\n",
              "      <th>45611</th>\n",
              "      <td>2021-03-16 00:54:00-04:00</td>\n",
              "      <td>NaN</td>\n",
              "      <td>NaN</td>\n",
              "      <td>0.0</td>\n",
              "      <td>0</td>\n",
              "      <td>NaN</td>\n",
              "      <td>0</td>\n",
              "      <td>0</td>\n",
              "      <td>0</td>\n",
              "      <td>0</td>\n",
              "    </tr>\n",
              "  </tbody>\n",
              "</table>\n",
              "</div>\n",
              "      <button class=\"colab-df-convert\" onclick=\"convertToInteractive('df-d284868c-76b7-4089-a25f-bdf02577d0b8')\"\n",
              "              title=\"Convert this dataframe to an interactive table.\"\n",
              "              style=\"display:none;\">\n",
              "        \n",
              "  <svg xmlns=\"http://www.w3.org/2000/svg\" height=\"24px\"viewBox=\"0 0 24 24\"\n",
              "       width=\"24px\">\n",
              "    <path d=\"M0 0h24v24H0V0z\" fill=\"none\"/>\n",
              "    <path d=\"M18.56 5.44l.94 2.06.94-2.06 2.06-.94-2.06-.94-.94-2.06-.94 2.06-2.06.94zm-11 1L8.5 8.5l.94-2.06 2.06-.94-2.06-.94L8.5 2.5l-.94 2.06-2.06.94zm10 10l.94 2.06.94-2.06 2.06-.94-2.06-.94-.94-2.06-.94 2.06-2.06.94z\"/><path d=\"M17.41 7.96l-1.37-1.37c-.4-.4-.92-.59-1.43-.59-.52 0-1.04.2-1.43.59L10.3 9.45l-7.72 7.72c-.78.78-.78 2.05 0 2.83L4 21.41c.39.39.9.59 1.41.59.51 0 1.02-.2 1.41-.59l7.78-7.78 2.81-2.81c.8-.78.8-2.07 0-2.86zM5.41 20L4 18.59l7.72-7.72 1.47 1.35L5.41 20z\"/>\n",
              "  </svg>\n",
              "      </button>\n",
              "      \n",
              "  <style>\n",
              "    .colab-df-container {\n",
              "      display:flex;\n",
              "      flex-wrap:wrap;\n",
              "      gap: 12px;\n",
              "    }\n",
              "\n",
              "    .colab-df-convert {\n",
              "      background-color: #E8F0FE;\n",
              "      border: none;\n",
              "      border-radius: 50%;\n",
              "      cursor: pointer;\n",
              "      display: none;\n",
              "      fill: #1967D2;\n",
              "      height: 32px;\n",
              "      padding: 0 0 0 0;\n",
              "      width: 32px;\n",
              "    }\n",
              "\n",
              "    .colab-df-convert:hover {\n",
              "      background-color: #E2EBFA;\n",
              "      box-shadow: 0px 1px 2px rgba(60, 64, 67, 0.3), 0px 1px 3px 1px rgba(60, 64, 67, 0.15);\n",
              "      fill: #174EA6;\n",
              "    }\n",
              "\n",
              "    [theme=dark] .colab-df-convert {\n",
              "      background-color: #3B4455;\n",
              "      fill: #D2E3FC;\n",
              "    }\n",
              "\n",
              "    [theme=dark] .colab-df-convert:hover {\n",
              "      background-color: #434B5C;\n",
              "      box-shadow: 0px 1px 3px 1px rgba(0, 0, 0, 0.15);\n",
              "      filter: drop-shadow(0px 1px 2px rgba(0, 0, 0, 0.3));\n",
              "      fill: #FFFFFF;\n",
              "    }\n",
              "  </style>\n",
              "\n",
              "      <script>\n",
              "        const buttonEl =\n",
              "          document.querySelector('#df-d284868c-76b7-4089-a25f-bdf02577d0b8 button.colab-df-convert');\n",
              "        buttonEl.style.display =\n",
              "          google.colab.kernel.accessAllowed ? 'block' : 'none';\n",
              "\n",
              "        async function convertToInteractive(key) {\n",
              "          const element = document.querySelector('#df-d284868c-76b7-4089-a25f-bdf02577d0b8');\n",
              "          const dataTable =\n",
              "            await google.colab.kernel.invokeFunction('convertToInteractive',\n",
              "                                                     [key], {});\n",
              "          if (!dataTable) return;\n",
              "\n",
              "          const docLinkHtml = 'Like what you see? Visit the ' +\n",
              "            '<a target=\"_blank\" href=https://colab.research.google.com/notebooks/data_table.ipynb>data table notebook</a>'\n",
              "            + ' to learn more about interactive tables.';\n",
              "          element.innerHTML = '';\n",
              "          dataTable['output_type'] = 'display_data';\n",
              "          await google.colab.output.renderOutput(dataTable, element);\n",
              "          const docLink = document.createElement('div');\n",
              "          docLink.innerHTML = docLinkHtml;\n",
              "          element.appendChild(docLink);\n",
              "        }\n",
              "      </script>\n",
              "    </div>\n",
              "  </div>\n",
              "  "
            ]
          },
          "metadata": {},
          "execution_count": 7
        }
      ]
    },
    {
      "cell_type": "code",
      "source": [
        "from sklearn.impute import KNNImputer # imports KNNImputer from sklearn\n",
        "imputer = KNNImputer(n_neighbors=2) # creates imputer using the 2 nearest neighbors\n",
        "wdf['date'] = pd.to_numeric(pd.to_datetime(wdf['date'])) # converts the datetime column to numeric to prevent imputing error, method found here: https://stackoverflow.com/questions/41256626/pandas-typeerror-float-argument-must-be-a-string-or-a-number\n",
        "wdf_imputed = pd.DataFrame(data=imputer.fit_transform(wdf), columns=wdf.columns) # imputes the dataframe using the created imputer\n",
        "wdf['tmp_meas'] = wdf_imputed['tmp_meas'] # replaces the tmp_meas column with the imputed tmp_meas column\n",
        "wdf['prior_tmp_meas'] = wdf['tmp_meas'].shift() # creates a column with the prior tmp_meas value displayed for each row\n",
        "wdf.iloc[[7766, 7767, 7768, 45610, 45611, 45612]] # displays the previously null rows with their imputed values along with their nearest neighbors"
      ],
      "metadata": {
        "colab": {
          "base_uri": "https://localhost:8080/",
          "height": 237
        },
        "id": "rjQ226oRdn9U",
        "outputId": "675f346b-2991-4ff5-8fae-74561a2fa0f0"
      },
      "execution_count": null,
      "outputs": [
        {
          "output_type": "execute_result",
          "data": {
            "text/plain": [
              "                      date  wnd_speed  tmp_meas  precip  precip_intensity  \\\n",
              "7766   1479574440000000000        2.1      21.1     0.0                 0   \n",
              "7767   1479578040000000000        4.6      21.1     0.0                 0   \n",
              "7768   1479581640000000000        4.1      21.1     0.0                 0   \n",
              "45610  1615866840000000000        0.0       4.4     0.0                 0   \n",
              "45611  1615870440000000000        NaN       4.4     0.0                 0   \n",
              "45612  1615874040000000000        0.0       4.4     0.0                 0   \n",
              "\n",
              "       cloudcover  tstorm  winter  mist  fog  prior_tmp_meas  \n",
              "7766          1.0       0       0     0    0            18.3  \n",
              "7767          1.0       0       0     0    0            21.1  \n",
              "7768          2.0       0       0     0    0            21.1  \n",
              "45610         4.0       0       0     0    0             4.4  \n",
              "45611         NaN       0       0     0    0             4.4  \n",
              "45612         4.0       0       0     0    0             4.4  "
            ],
            "text/html": [
              "\n",
              "  <div id=\"df-207f1025-f1b9-463e-8897-8f7f32ae27cf\">\n",
              "    <div class=\"colab-df-container\">\n",
              "      <div>\n",
              "<style scoped>\n",
              "    .dataframe tbody tr th:only-of-type {\n",
              "        vertical-align: middle;\n",
              "    }\n",
              "\n",
              "    .dataframe tbody tr th {\n",
              "        vertical-align: top;\n",
              "    }\n",
              "\n",
              "    .dataframe thead th {\n",
              "        text-align: right;\n",
              "    }\n",
              "</style>\n",
              "<table border=\"1\" class=\"dataframe\">\n",
              "  <thead>\n",
              "    <tr style=\"text-align: right;\">\n",
              "      <th></th>\n",
              "      <th>date</th>\n",
              "      <th>wnd_speed</th>\n",
              "      <th>tmp_meas</th>\n",
              "      <th>precip</th>\n",
              "      <th>precip_intensity</th>\n",
              "      <th>cloudcover</th>\n",
              "      <th>tstorm</th>\n",
              "      <th>winter</th>\n",
              "      <th>mist</th>\n",
              "      <th>fog</th>\n",
              "      <th>prior_tmp_meas</th>\n",
              "    </tr>\n",
              "  </thead>\n",
              "  <tbody>\n",
              "    <tr>\n",
              "      <th>7766</th>\n",
              "      <td>1479574440000000000</td>\n",
              "      <td>2.1</td>\n",
              "      <td>21.1</td>\n",
              "      <td>0.0</td>\n",
              "      <td>0</td>\n",
              "      <td>1.0</td>\n",
              "      <td>0</td>\n",
              "      <td>0</td>\n",
              "      <td>0</td>\n",
              "      <td>0</td>\n",
              "      <td>18.3</td>\n",
              "    </tr>\n",
              "    <tr>\n",
              "      <th>7767</th>\n",
              "      <td>1479578040000000000</td>\n",
              "      <td>4.6</td>\n",
              "      <td>21.1</td>\n",
              "      <td>0.0</td>\n",
              "      <td>0</td>\n",
              "      <td>1.0</td>\n",
              "      <td>0</td>\n",
              "      <td>0</td>\n",
              "      <td>0</td>\n",
              "      <td>0</td>\n",
              "      <td>21.1</td>\n",
              "    </tr>\n",
              "    <tr>\n",
              "      <th>7768</th>\n",
              "      <td>1479581640000000000</td>\n",
              "      <td>4.1</td>\n",
              "      <td>21.1</td>\n",
              "      <td>0.0</td>\n",
              "      <td>0</td>\n",
              "      <td>2.0</td>\n",
              "      <td>0</td>\n",
              "      <td>0</td>\n",
              "      <td>0</td>\n",
              "      <td>0</td>\n",
              "      <td>21.1</td>\n",
              "    </tr>\n",
              "    <tr>\n",
              "      <th>45610</th>\n",
              "      <td>1615866840000000000</td>\n",
              "      <td>0.0</td>\n",
              "      <td>4.4</td>\n",
              "      <td>0.0</td>\n",
              "      <td>0</td>\n",
              "      <td>4.0</td>\n",
              "      <td>0</td>\n",
              "      <td>0</td>\n",
              "      <td>0</td>\n",
              "      <td>0</td>\n",
              "      <td>4.4</td>\n",
              "    </tr>\n",
              "    <tr>\n",
              "      <th>45611</th>\n",
              "      <td>1615870440000000000</td>\n",
              "      <td>NaN</td>\n",
              "      <td>4.4</td>\n",
              "      <td>0.0</td>\n",
              "      <td>0</td>\n",
              "      <td>NaN</td>\n",
              "      <td>0</td>\n",
              "      <td>0</td>\n",
              "      <td>0</td>\n",
              "      <td>0</td>\n",
              "      <td>4.4</td>\n",
              "    </tr>\n",
              "    <tr>\n",
              "      <th>45612</th>\n",
              "      <td>1615874040000000000</td>\n",
              "      <td>0.0</td>\n",
              "      <td>4.4</td>\n",
              "      <td>0.0</td>\n",
              "      <td>0</td>\n",
              "      <td>4.0</td>\n",
              "      <td>0</td>\n",
              "      <td>0</td>\n",
              "      <td>0</td>\n",
              "      <td>0</td>\n",
              "      <td>4.4</td>\n",
              "    </tr>\n",
              "  </tbody>\n",
              "</table>\n",
              "</div>\n",
              "      <button class=\"colab-df-convert\" onclick=\"convertToInteractive('df-207f1025-f1b9-463e-8897-8f7f32ae27cf')\"\n",
              "              title=\"Convert this dataframe to an interactive table.\"\n",
              "              style=\"display:none;\">\n",
              "        \n",
              "  <svg xmlns=\"http://www.w3.org/2000/svg\" height=\"24px\"viewBox=\"0 0 24 24\"\n",
              "       width=\"24px\">\n",
              "    <path d=\"M0 0h24v24H0V0z\" fill=\"none\"/>\n",
              "    <path d=\"M18.56 5.44l.94 2.06.94-2.06 2.06-.94-2.06-.94-.94-2.06-.94 2.06-2.06.94zm-11 1L8.5 8.5l.94-2.06 2.06-.94-2.06-.94L8.5 2.5l-.94 2.06-2.06.94zm10 10l.94 2.06.94-2.06 2.06-.94-2.06-.94-.94-2.06-.94 2.06-2.06.94z\"/><path d=\"M17.41 7.96l-1.37-1.37c-.4-.4-.92-.59-1.43-.59-.52 0-1.04.2-1.43.59L10.3 9.45l-7.72 7.72c-.78.78-.78 2.05 0 2.83L4 21.41c.39.39.9.59 1.41.59.51 0 1.02-.2 1.41-.59l7.78-7.78 2.81-2.81c.8-.78.8-2.07 0-2.86zM5.41 20L4 18.59l7.72-7.72 1.47 1.35L5.41 20z\"/>\n",
              "  </svg>\n",
              "      </button>\n",
              "      \n",
              "  <style>\n",
              "    .colab-df-container {\n",
              "      display:flex;\n",
              "      flex-wrap:wrap;\n",
              "      gap: 12px;\n",
              "    }\n",
              "\n",
              "    .colab-df-convert {\n",
              "      background-color: #E8F0FE;\n",
              "      border: none;\n",
              "      border-radius: 50%;\n",
              "      cursor: pointer;\n",
              "      display: none;\n",
              "      fill: #1967D2;\n",
              "      height: 32px;\n",
              "      padding: 0 0 0 0;\n",
              "      width: 32px;\n",
              "    }\n",
              "\n",
              "    .colab-df-convert:hover {\n",
              "      background-color: #E2EBFA;\n",
              "      box-shadow: 0px 1px 2px rgba(60, 64, 67, 0.3), 0px 1px 3px 1px rgba(60, 64, 67, 0.15);\n",
              "      fill: #174EA6;\n",
              "    }\n",
              "\n",
              "    [theme=dark] .colab-df-convert {\n",
              "      background-color: #3B4455;\n",
              "      fill: #D2E3FC;\n",
              "    }\n",
              "\n",
              "    [theme=dark] .colab-df-convert:hover {\n",
              "      background-color: #434B5C;\n",
              "      box-shadow: 0px 1px 3px 1px rgba(0, 0, 0, 0.15);\n",
              "      filter: drop-shadow(0px 1px 2px rgba(0, 0, 0, 0.3));\n",
              "      fill: #FFFFFF;\n",
              "    }\n",
              "  </style>\n",
              "\n",
              "      <script>\n",
              "        const buttonEl =\n",
              "          document.querySelector('#df-207f1025-f1b9-463e-8897-8f7f32ae27cf button.colab-df-convert');\n",
              "        buttonEl.style.display =\n",
              "          google.colab.kernel.accessAllowed ? 'block' : 'none';\n",
              "\n",
              "        async function convertToInteractive(key) {\n",
              "          const element = document.querySelector('#df-207f1025-f1b9-463e-8897-8f7f32ae27cf');\n",
              "          const dataTable =\n",
              "            await google.colab.kernel.invokeFunction('convertToInteractive',\n",
              "                                                     [key], {});\n",
              "          if (!dataTable) return;\n",
              "\n",
              "          const docLinkHtml = 'Like what you see? Visit the ' +\n",
              "            '<a target=\"_blank\" href=https://colab.research.google.com/notebooks/data_table.ipynb>data table notebook</a>'\n",
              "            + ' to learn more about interactive tables.';\n",
              "          element.innerHTML = '';\n",
              "          dataTable['output_type'] = 'display_data';\n",
              "          await google.colab.output.renderOutput(dataTable, element);\n",
              "          const docLink = document.createElement('div');\n",
              "          docLink.innerHTML = docLinkHtml;\n",
              "          element.appendChild(docLink);\n",
              "        }\n",
              "      </script>\n",
              "    </div>\n",
              "  </div>\n",
              "  "
            ]
          },
          "metadata": {},
          "execution_count": 8
        }
      ]
    },
    {
      "cell_type": "markdown",
      "source": [
        "b. The observed temperature is the target variable.  Remove the observed temperature from the data frame, and save the values into a matrix $\\mathbf{y}$"
      ],
      "metadata": {
        "id": "b_1ing8MDT_e"
      }
    },
    {
      "cell_type": "code",
      "source": [
        "y = wdf['tmp_meas'].to_numpy().reshape(-1,1) # converted tmp_meas series into a one column numpy array"
      ],
      "metadata": {
        "id": "NCzG7CuhDVm3"
      },
      "execution_count": null,
      "outputs": []
    },
    {
      "cell_type": "markdown",
      "source": [
        "c. Treat missing values in the dataframe so that the output dataset contains no missing values.  In the notebook, explain your approach to treat missing values."
      ],
      "metadata": {
        "id": "q-LHfdKQDXso"
      }
    },
    {
      "cell_type": "code",
      "source": [
        "wdf.columns[wdf.isnull().any()] # displays columns containing null values in wdf"
      ],
      "metadata": {
        "colab": {
          "base_uri": "https://localhost:8080/"
        },
        "id": "66FH_CQwWJS_",
        "outputId": "1d72c8cd-bbc6-4c0e-ed8e-42af7ed951f2"
      },
      "execution_count": null,
      "outputs": [
        {
          "output_type": "execute_result",
          "data": {
            "text/plain": [
              "Index(['wnd_speed', 'precip', 'cloudcover', 'prior_tmp_meas'], dtype='object')"
            ]
          },
          "metadata": {},
          "execution_count": 10
        }
      ]
    },
    {
      "cell_type": "code",
      "source": [
        "wdf_imputed.columns[wdf_imputed.isnull().any()] # displays columns containing null values in the imputed wdf"
      ],
      "metadata": {
        "colab": {
          "base_uri": "https://localhost:8080/"
        },
        "id": "HhFhYoqhXEV8",
        "outputId": "b03c948b-240e-43e1-869b-bb92a74d139b"
      },
      "execution_count": null,
      "outputs": [
        {
          "output_type": "execute_result",
          "data": {
            "text/plain": [
              "Index([], dtype='object')"
            ]
          },
          "metadata": {},
          "execution_count": 11
        }
      ]
    },
    {
      "cell_type": "code",
      "source": [
        "wdf['wnd_speed'] = wdf_imputed['wnd_speed'] # replaces the wnd_speed column with the imputed wnd_speed column\n",
        "wdf['precip'] = wdf_imputed['precip'] # replaces the precip column with the imputed precip column\n",
        "wdf['cloudcover'] = wdf_imputed['cloudcover'] # replaces the cloudcover column with the imputed cloudcover column\n",
        "wdf.columns[wdf.isnull().any()] # displays remaining columns containing null values in wdf (prior_tmp_meas will remain null due to the first entry not having a prior tmp value)"
      ],
      "metadata": {
        "colab": {
          "base_uri": "https://localhost:8080/"
        },
        "id": "lyE7bkQHWVo0",
        "outputId": "c1d01949-77ea-4124-e9cc-1d3092051db7"
      },
      "execution_count": null,
      "outputs": [
        {
          "output_type": "execute_result",
          "data": {
            "text/plain": [
              "Index(['prior_tmp_meas'], dtype='object')"
            ]
          },
          "metadata": {},
          "execution_count": 12
        }
      ]
    },
    {
      "cell_type": "markdown",
      "source": [
        "The other missing values in the dataframe were treated by replacing the columns in wdf containing missing values with the values from the previously derived wdf_imputed dataframe using two nearest neighbors. This was an intuitive method to do so because it was properly utilized to replace the missing values in the tmp_meas column, and thus was a reasonable method to repeat."
      ],
      "metadata": {
        "id": "_yWvDbe5YAKQ"
      }
    },
    {
      "cell_type": "markdown",
      "source": [
        "d. Remove the date field as well as the first observation (which has no prior temperature value) from the dataframe"
      ],
      "metadata": {
        "id": "31UggZ1CDaUG"
      }
    },
    {
      "cell_type": "code",
      "source": [
        "wdf_clean = wdf.drop(columns=['date']).dropna().reset_index(drop=True) # removes the date column, drops the first row (the only row containing a null value), and resets the index\n",
        "wdf_clean.head() # displays the first 5 entries of wdf_clean"
      ],
      "metadata": {
        "id": "zCalwXPaDbxF",
        "colab": {
          "base_uri": "https://localhost:8080/",
          "height": 206
        },
        "outputId": "2f16fbed-ac84-4af2-d40e-3c88c18c33a7"
      },
      "execution_count": null,
      "outputs": [
        {
          "output_type": "execute_result",
          "data": {
            "text/plain": [
              "   wnd_speed  tmp_meas  precip  precip_intensity  cloudcover  tstorm  winter  \\\n",
              "0        3.1       6.1     0.0                 0         4.0       0       0   \n",
              "1        2.1       6.7     0.0                 0         4.0       0       0   \n",
              "2        2.6       6.1     0.0                 0         4.0       0       0   \n",
              "3        2.1       5.6     0.0                 0         4.0       0       0   \n",
              "4        2.1       5.0     0.0                 0         4.0       0       0   \n",
              "\n",
              "   mist  fog  prior_tmp_meas  \n",
              "0     0    0             7.2  \n",
              "1     0    0             6.1  \n",
              "2     0    0             6.7  \n",
              "3     0    0             6.1  \n",
              "4     0    0             5.6  "
            ],
            "text/html": [
              "\n",
              "  <div id=\"df-773719df-28cc-4d49-8ef5-fe3a6587c66d\">\n",
              "    <div class=\"colab-df-container\">\n",
              "      <div>\n",
              "<style scoped>\n",
              "    .dataframe tbody tr th:only-of-type {\n",
              "        vertical-align: middle;\n",
              "    }\n",
              "\n",
              "    .dataframe tbody tr th {\n",
              "        vertical-align: top;\n",
              "    }\n",
              "\n",
              "    .dataframe thead th {\n",
              "        text-align: right;\n",
              "    }\n",
              "</style>\n",
              "<table border=\"1\" class=\"dataframe\">\n",
              "  <thead>\n",
              "    <tr style=\"text-align: right;\">\n",
              "      <th></th>\n",
              "      <th>wnd_speed</th>\n",
              "      <th>tmp_meas</th>\n",
              "      <th>precip</th>\n",
              "      <th>precip_intensity</th>\n",
              "      <th>cloudcover</th>\n",
              "      <th>tstorm</th>\n",
              "      <th>winter</th>\n",
              "      <th>mist</th>\n",
              "      <th>fog</th>\n",
              "      <th>prior_tmp_meas</th>\n",
              "    </tr>\n",
              "  </thead>\n",
              "  <tbody>\n",
              "    <tr>\n",
              "      <th>0</th>\n",
              "      <td>3.1</td>\n",
              "      <td>6.1</td>\n",
              "      <td>0.0</td>\n",
              "      <td>0</td>\n",
              "      <td>4.0</td>\n",
              "      <td>0</td>\n",
              "      <td>0</td>\n",
              "      <td>0</td>\n",
              "      <td>0</td>\n",
              "      <td>7.2</td>\n",
              "    </tr>\n",
              "    <tr>\n",
              "      <th>1</th>\n",
              "      <td>2.1</td>\n",
              "      <td>6.7</td>\n",
              "      <td>0.0</td>\n",
              "      <td>0</td>\n",
              "      <td>4.0</td>\n",
              "      <td>0</td>\n",
              "      <td>0</td>\n",
              "      <td>0</td>\n",
              "      <td>0</td>\n",
              "      <td>6.1</td>\n",
              "    </tr>\n",
              "    <tr>\n",
              "      <th>2</th>\n",
              "      <td>2.6</td>\n",
              "      <td>6.1</td>\n",
              "      <td>0.0</td>\n",
              "      <td>0</td>\n",
              "      <td>4.0</td>\n",
              "      <td>0</td>\n",
              "      <td>0</td>\n",
              "      <td>0</td>\n",
              "      <td>0</td>\n",
              "      <td>6.7</td>\n",
              "    </tr>\n",
              "    <tr>\n",
              "      <th>3</th>\n",
              "      <td>2.1</td>\n",
              "      <td>5.6</td>\n",
              "      <td>0.0</td>\n",
              "      <td>0</td>\n",
              "      <td>4.0</td>\n",
              "      <td>0</td>\n",
              "      <td>0</td>\n",
              "      <td>0</td>\n",
              "      <td>0</td>\n",
              "      <td>6.1</td>\n",
              "    </tr>\n",
              "    <tr>\n",
              "      <th>4</th>\n",
              "      <td>2.1</td>\n",
              "      <td>5.0</td>\n",
              "      <td>0.0</td>\n",
              "      <td>0</td>\n",
              "      <td>4.0</td>\n",
              "      <td>0</td>\n",
              "      <td>0</td>\n",
              "      <td>0</td>\n",
              "      <td>0</td>\n",
              "      <td>5.6</td>\n",
              "    </tr>\n",
              "  </tbody>\n",
              "</table>\n",
              "</div>\n",
              "      <button class=\"colab-df-convert\" onclick=\"convertToInteractive('df-773719df-28cc-4d49-8ef5-fe3a6587c66d')\"\n",
              "              title=\"Convert this dataframe to an interactive table.\"\n",
              "              style=\"display:none;\">\n",
              "        \n",
              "  <svg xmlns=\"http://www.w3.org/2000/svg\" height=\"24px\"viewBox=\"0 0 24 24\"\n",
              "       width=\"24px\">\n",
              "    <path d=\"M0 0h24v24H0V0z\" fill=\"none\"/>\n",
              "    <path d=\"M18.56 5.44l.94 2.06.94-2.06 2.06-.94-2.06-.94-.94-2.06-.94 2.06-2.06.94zm-11 1L8.5 8.5l.94-2.06 2.06-.94-2.06-.94L8.5 2.5l-.94 2.06-2.06.94zm10 10l.94 2.06.94-2.06 2.06-.94-2.06-.94-.94-2.06-.94 2.06-2.06.94z\"/><path d=\"M17.41 7.96l-1.37-1.37c-.4-.4-.92-.59-1.43-.59-.52 0-1.04.2-1.43.59L10.3 9.45l-7.72 7.72c-.78.78-.78 2.05 0 2.83L4 21.41c.39.39.9.59 1.41.59.51 0 1.02-.2 1.41-.59l7.78-7.78 2.81-2.81c.8-.78.8-2.07 0-2.86zM5.41 20L4 18.59l7.72-7.72 1.47 1.35L5.41 20z\"/>\n",
              "  </svg>\n",
              "      </button>\n",
              "      \n",
              "  <style>\n",
              "    .colab-df-container {\n",
              "      display:flex;\n",
              "      flex-wrap:wrap;\n",
              "      gap: 12px;\n",
              "    }\n",
              "\n",
              "    .colab-df-convert {\n",
              "      background-color: #E8F0FE;\n",
              "      border: none;\n",
              "      border-radius: 50%;\n",
              "      cursor: pointer;\n",
              "      display: none;\n",
              "      fill: #1967D2;\n",
              "      height: 32px;\n",
              "      padding: 0 0 0 0;\n",
              "      width: 32px;\n",
              "    }\n",
              "\n",
              "    .colab-df-convert:hover {\n",
              "      background-color: #E2EBFA;\n",
              "      box-shadow: 0px 1px 2px rgba(60, 64, 67, 0.3), 0px 1px 3px 1px rgba(60, 64, 67, 0.15);\n",
              "      fill: #174EA6;\n",
              "    }\n",
              "\n",
              "    [theme=dark] .colab-df-convert {\n",
              "      background-color: #3B4455;\n",
              "      fill: #D2E3FC;\n",
              "    }\n",
              "\n",
              "    [theme=dark] .colab-df-convert:hover {\n",
              "      background-color: #434B5C;\n",
              "      box-shadow: 0px 1px 3px 1px rgba(0, 0, 0, 0.15);\n",
              "      filter: drop-shadow(0px 1px 2px rgba(0, 0, 0, 0.3));\n",
              "      fill: #FFFFFF;\n",
              "    }\n",
              "  </style>\n",
              "\n",
              "      <script>\n",
              "        const buttonEl =\n",
              "          document.querySelector('#df-773719df-28cc-4d49-8ef5-fe3a6587c66d button.colab-df-convert');\n",
              "        buttonEl.style.display =\n",
              "          google.colab.kernel.accessAllowed ? 'block' : 'none';\n",
              "\n",
              "        async function convertToInteractive(key) {\n",
              "          const element = document.querySelector('#df-773719df-28cc-4d49-8ef5-fe3a6587c66d');\n",
              "          const dataTable =\n",
              "            await google.colab.kernel.invokeFunction('convertToInteractive',\n",
              "                                                     [key], {});\n",
              "          if (!dataTable) return;\n",
              "\n",
              "          const docLinkHtml = 'Like what you see? Visit the ' +\n",
              "            '<a target=\"_blank\" href=https://colab.research.google.com/notebooks/data_table.ipynb>data table notebook</a>'\n",
              "            + ' to learn more about interactive tables.';\n",
              "          element.innerHTML = '';\n",
              "          dataTable['output_type'] = 'display_data';\n",
              "          await google.colab.output.renderOutput(dataTable, element);\n",
              "          const docLink = document.createElement('div');\n",
              "          docLink.innerHTML = docLinkHtml;\n",
              "          element.appendChild(docLink);\n",
              "        }\n",
              "      </script>\n",
              "    </div>\n",
              "  </div>\n",
              "  "
            ]
          },
          "metadata": {},
          "execution_count": 13
        }
      ]
    },
    {
      "cell_type": "markdown",
      "source": [
        "e. Construct and apply a `ColumnTransformer` that inputs the dataset into a matrix that is suitable for machine learning.  This output matrix ($\\mathbf{X}$) will have the following properties:\n",
        "\n",
        "* All matrix elements are numeric and at approximately the same scale\n",
        "* It does not include the target variable (observation temperature)\n",
        "* There are no missing values\n",
        "\n",
        "For each imputer and scaler that you use, provide your rationale."
      ],
      "metadata": {
        "id": "YxUPHDZvDcWl"
      }
    },
    {
      "cell_type": "code",
      "source": [
        "from sklearn.compose import ColumnTransformer # imports ColumnTransformer from sklearn\n",
        "from sklearn.preprocessing import MinMaxScaler # imports MinMaxScaler from sklearn\n",
        "from sklearn.pipeline import make_pipeline # imports make_pipeline from sklearn\n",
        "useful_columns = wdf_clean.columns.drop(['tmp_meas']) # designates all columns from wdf_clean except tmp_meas (the target variable)\n",
        "ct = ColumnTransformer(\n",
        "   [\n",
        "   ('useful_column_transform',\n",
        "    make_pipeline(\n",
        "        KNNImputer(n_neighbors=2),\n",
        "        MinMaxScaler()),\n",
        "    useful_columns)\n",
        "   ]\n",
        ") # creates a ColumnTransformer which uses a pipeline to impute missing values using their two nearest neighbors and scale values according to their minima and maxima\n",
        "\n",
        "X = ct.fit_transform(wdf_clean) # performs the constructed column transformation on useful_columns in wdf_clean"
      ],
      "metadata": {
        "id": "_hkUqCe0DtJs"
      },
      "execution_count": null,
      "outputs": []
    },
    {
      "cell_type": "markdown",
      "source": [
        "For imputing, KNNImputer with two nearest neighbors was used because in a large dataset, the two nearest neighbors can be useful in approximating measurements in the same time frame, as there won't be large variation. For scaling, MinMaxScaler was used because it provides a standardized way to determine values that does not depend on other columns in the dataframe."
      ],
      "metadata": {
        "id": "QRP0QmHg9Ece"
      }
    },
    {
      "cell_type": "markdown",
      "source": [
        "Show the first few rows of the resulting matrices $\\mathbf{X}$ and $\\mathbf{y}$."
      ],
      "metadata": {
        "id": "Jl6Jl4MbDtjw"
      }
    },
    {
      "cell_type": "code",
      "source": [
        "X[0:3] # displays the first few rows of X"
      ],
      "metadata": {
        "id": "wOVkuZO1D0E_",
        "colab": {
          "base_uri": "https://localhost:8080/"
        },
        "outputId": "c4833845-499c-48df-aa84-2a1c1935466c"
      },
      "execution_count": null,
      "outputs": [
        {
          "output_type": "execute_result",
          "data": {
            "text/plain": [
              "array([[0.17222222, 0.        , 0.        , 0.8       , 0.        ,\n",
              "        0.        , 0.        , 0.        , 0.432282  ],\n",
              "       [0.11666667, 0.        , 0.        , 0.8       , 0.        ,\n",
              "        0.        , 0.        , 0.        , 0.41187384],\n",
              "       [0.14444444, 0.        , 0.        , 0.8       , 0.        ,\n",
              "        0.        , 0.        , 0.        , 0.42300557]])"
            ]
          },
          "metadata": {},
          "execution_count": 15
        }
      ]
    },
    {
      "cell_type": "code",
      "source": [
        "y[0:3] # displays the first few rows of y"
      ],
      "metadata": {
        "id": "zUXGkLeopKXz",
        "colab": {
          "base_uri": "https://localhost:8080/"
        },
        "outputId": "c4562d1c-4e07-4e59-bf65-dc02b606b71e"
      },
      "execution_count": null,
      "outputs": [
        {
          "output_type": "execute_result",
          "data": {
            "text/plain": [
              "array([[7.2],\n",
              "       [6.1],\n",
              "       [6.7]])"
            ]
          },
          "metadata": {},
          "execution_count": 16
        }
      ]
    }
  ]
}