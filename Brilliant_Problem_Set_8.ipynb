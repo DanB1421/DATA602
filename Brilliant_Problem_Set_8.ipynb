{
  "nbformat": 4,
  "nbformat_minor": 0,
  "metadata": {
    "colab": {
      "provenance": [],
      "include_colab_link": true
    },
    "kernelspec": {
      "display_name": "Python 3",
      "name": "python3"
    },
    "language_info": {
      "name": "python"
    },
    "gpuClass": "standard"
  },
  "cells": [
    {
      "cell_type": "markdown",
      "metadata": {
        "id": "view-in-github",
        "colab_type": "text"
      },
      "source": [
        "<a href=\"https://colab.research.google.com/github/DanB1421/DATA602/blob/main/Brilliant_Problem_Set_8.ipynb\" target=\"_parent\"><img src=\"https://colab.research.google.com/assets/colab-badge.svg\" alt=\"Open In Colab\"/></a>"
      ]
    },
    {
      "cell_type": "markdown",
      "metadata": {
        "id": "VVDLERrWlxkR"
      },
      "source": [
        "# Preparation\n",
        "\n",
        "This problem set is a continuation of the analysis of weather data from the Week 3 assignment.  A copy of the transformed weather dataset is included in the template.  Beginning with this dataset, remove the prior temperature observation and split the data into test and training datasets."
      ]
    },
    {
      "cell_type": "code",
      "source": [
        "from google.colab import drive\n",
        "drive.mount(\"/content/drive\")"
      ],
      "metadata": {
        "colab": {
          "base_uri": "https://localhost:8080/"
        },
        "id": "dHU-bfJaaq-B",
        "outputId": "81bbdb81-8b5b-42d6-9b46-d46b1df4cc7b"
      },
      "execution_count": null,
      "outputs": [
        {
          "output_type": "stream",
          "name": "stdout",
          "text": [
            "Mounted at /content/drive\n"
          ]
        }
      ]
    },
    {
      "cell_type": "markdown",
      "source": [
        "The below code loads a copy of the transformed data set posted as the solution for Week 3.  The prior temperature column is removed and a date column is added for reference.  (Alternatively, you can also use the transformed data set you produced in Week 3.)"
      ],
      "metadata": {
        "id": "piNznUqsboTV"
      }
    },
    {
      "cell_type": "code",
      "source": [
        "import pandas as pd\n",
        "\n",
        "wdf = pd.read_parquet(\"/content/drive/Shareddrives/DS602-F22/Data/weather_clean.parquet\")\n",
        "wdf"
      ],
      "metadata": {
        "colab": {
          "base_uri": "https://localhost:8080/",
          "height": 423
        },
        "id": "HiZ0UNXhgbhC",
        "outputId": "ab6e20b9-af38-4c1c-d204-86bf570bbecd"
      },
      "execution_count": null,
      "outputs": [
        {
          "output_type": "execute_result",
          "data": {
            "text/plain": [
              "       timeofday_sin  timeofday_cos  timeofyear_sin  timeofyear_cos  \\\n",
              "0           0.688355      -0.725374        0.999852       -0.017213   \n",
              "1           0.852640      -0.522499        0.999852       -0.017213   \n",
              "2           0.958820      -0.284015        0.999852       -0.017213   \n",
              "3           0.999657      -0.026177        0.999852       -0.017213   \n",
              "4           0.972370       0.233445        1.000000        0.000000   \n",
              "...              ...            ...             ...             ...   \n",
              "58461      -0.972370      -0.233445       -0.490029       -0.871706   \n",
              "58462      -0.878817      -0.477159       -0.490029       -0.871706   \n",
              "58463      -0.725374      -0.688355       -0.490029       -0.871706   \n",
              "58464      -0.522499      -0.852640       -0.490029       -0.871706   \n",
              "58465      -0.284015      -0.958820       -0.490029       -0.871706   \n",
              "\n",
              "       windspeed  precip  cloudcover  precip_intensity  tstorm  winter  mist  \\\n",
              "0       0.192308     0.0         0.8               0.0     0.0     0.0   0.0   \n",
              "1      -0.192308     0.0         0.8               0.0     0.0     0.0   0.0   \n",
              "2       0.000000     0.0         0.8               0.0     0.0     0.0   0.0   \n",
              "3      -0.192308     0.0         0.8               0.0     0.0     0.0   0.0   \n",
              "4      -0.192308     0.0         0.8               0.0     0.0     0.0   0.0   \n",
              "...          ...     ...         ...               ...     ...     ...   ...   \n",
              "58461   0.769231     0.0         0.6               0.0     0.0     0.0   0.0   \n",
              "58462   0.000000     0.0         0.6               0.0     0.0     0.0   0.0   \n",
              "58463   0.576923     0.0         0.6               0.0     0.0     0.0   0.0   \n",
              "58464   0.769231     0.0         0.6               0.0     0.0     0.0   0.0   \n",
              "58465   0.769231     0.0         0.6               0.0     0.0     0.0   0.0   \n",
              "\n",
              "       fog  temp                      date  \n",
              "0      0.0   6.1 2015-12-31 20:54:00-05:00  \n",
              "1      0.0   6.7 2015-12-31 21:54:00-05:00  \n",
              "2      0.0   6.1 2015-12-31 22:54:00-05:00  \n",
              "3      0.0   5.6 2015-12-31 23:54:00-05:00  \n",
              "4      0.0   5.0 2016-01-01 00:54:00-05:00  \n",
              "...    ...   ...                       ...  \n",
              "58461  0.0  27.8 2022-09-02 12:54:00-04:00  \n",
              "58462  0.0  28.9 2022-09-02 13:54:00-04:00  \n",
              "58463  0.0  28.9 2022-09-02 14:54:00-04:00  \n",
              "58464  0.0  29.4 2022-09-02 15:54:00-04:00  \n",
              "58465  0.0  30.0 2022-09-02 16:54:00-04:00  \n",
              "\n",
              "[58466 rows x 14 columns]"
            ],
            "text/html": [
              "\n",
              "  <div id=\"df-3abc6e93-8f6a-4b52-8641-19b1631b4f3a\">\n",
              "    <div class=\"colab-df-container\">\n",
              "      <div>\n",
              "<style scoped>\n",
              "    .dataframe tbody tr th:only-of-type {\n",
              "        vertical-align: middle;\n",
              "    }\n",
              "\n",
              "    .dataframe tbody tr th {\n",
              "        vertical-align: top;\n",
              "    }\n",
              "\n",
              "    .dataframe thead th {\n",
              "        text-align: right;\n",
              "    }\n",
              "</style>\n",
              "<table border=\"1\" class=\"dataframe\">\n",
              "  <thead>\n",
              "    <tr style=\"text-align: right;\">\n",
              "      <th></th>\n",
              "      <th>timeofday_sin</th>\n",
              "      <th>timeofday_cos</th>\n",
              "      <th>timeofyear_sin</th>\n",
              "      <th>timeofyear_cos</th>\n",
              "      <th>windspeed</th>\n",
              "      <th>precip</th>\n",
              "      <th>cloudcover</th>\n",
              "      <th>precip_intensity</th>\n",
              "      <th>tstorm</th>\n",
              "      <th>winter</th>\n",
              "      <th>mist</th>\n",
              "      <th>fog</th>\n",
              "      <th>temp</th>\n",
              "      <th>date</th>\n",
              "    </tr>\n",
              "  </thead>\n",
              "  <tbody>\n",
              "    <tr>\n",
              "      <th>0</th>\n",
              "      <td>0.688355</td>\n",
              "      <td>-0.725374</td>\n",
              "      <td>0.999852</td>\n",
              "      <td>-0.017213</td>\n",
              "      <td>0.192308</td>\n",
              "      <td>0.0</td>\n",
              "      <td>0.8</td>\n",
              "      <td>0.0</td>\n",
              "      <td>0.0</td>\n",
              "      <td>0.0</td>\n",
              "      <td>0.0</td>\n",
              "      <td>0.0</td>\n",
              "      <td>6.1</td>\n",
              "      <td>2015-12-31 20:54:00-05:00</td>\n",
              "    </tr>\n",
              "    <tr>\n",
              "      <th>1</th>\n",
              "      <td>0.852640</td>\n",
              "      <td>-0.522499</td>\n",
              "      <td>0.999852</td>\n",
              "      <td>-0.017213</td>\n",
              "      <td>-0.192308</td>\n",
              "      <td>0.0</td>\n",
              "      <td>0.8</td>\n",
              "      <td>0.0</td>\n",
              "      <td>0.0</td>\n",
              "      <td>0.0</td>\n",
              "      <td>0.0</td>\n",
              "      <td>0.0</td>\n",
              "      <td>6.7</td>\n",
              "      <td>2015-12-31 21:54:00-05:00</td>\n",
              "    </tr>\n",
              "    <tr>\n",
              "      <th>2</th>\n",
              "      <td>0.958820</td>\n",
              "      <td>-0.284015</td>\n",
              "      <td>0.999852</td>\n",
              "      <td>-0.017213</td>\n",
              "      <td>0.000000</td>\n",
              "      <td>0.0</td>\n",
              "      <td>0.8</td>\n",
              "      <td>0.0</td>\n",
              "      <td>0.0</td>\n",
              "      <td>0.0</td>\n",
              "      <td>0.0</td>\n",
              "      <td>0.0</td>\n",
              "      <td>6.1</td>\n",
              "      <td>2015-12-31 22:54:00-05:00</td>\n",
              "    </tr>\n",
              "    <tr>\n",
              "      <th>3</th>\n",
              "      <td>0.999657</td>\n",
              "      <td>-0.026177</td>\n",
              "      <td>0.999852</td>\n",
              "      <td>-0.017213</td>\n",
              "      <td>-0.192308</td>\n",
              "      <td>0.0</td>\n",
              "      <td>0.8</td>\n",
              "      <td>0.0</td>\n",
              "      <td>0.0</td>\n",
              "      <td>0.0</td>\n",
              "      <td>0.0</td>\n",
              "      <td>0.0</td>\n",
              "      <td>5.6</td>\n",
              "      <td>2015-12-31 23:54:00-05:00</td>\n",
              "    </tr>\n",
              "    <tr>\n",
              "      <th>4</th>\n",
              "      <td>0.972370</td>\n",
              "      <td>0.233445</td>\n",
              "      <td>1.000000</td>\n",
              "      <td>0.000000</td>\n",
              "      <td>-0.192308</td>\n",
              "      <td>0.0</td>\n",
              "      <td>0.8</td>\n",
              "      <td>0.0</td>\n",
              "      <td>0.0</td>\n",
              "      <td>0.0</td>\n",
              "      <td>0.0</td>\n",
              "      <td>0.0</td>\n",
              "      <td>5.0</td>\n",
              "      <td>2016-01-01 00:54:00-05:00</td>\n",
              "    </tr>\n",
              "    <tr>\n",
              "      <th>...</th>\n",
              "      <td>...</td>\n",
              "      <td>...</td>\n",
              "      <td>...</td>\n",
              "      <td>...</td>\n",
              "      <td>...</td>\n",
              "      <td>...</td>\n",
              "      <td>...</td>\n",
              "      <td>...</td>\n",
              "      <td>...</td>\n",
              "      <td>...</td>\n",
              "      <td>...</td>\n",
              "      <td>...</td>\n",
              "      <td>...</td>\n",
              "      <td>...</td>\n",
              "    </tr>\n",
              "    <tr>\n",
              "      <th>58461</th>\n",
              "      <td>-0.972370</td>\n",
              "      <td>-0.233445</td>\n",
              "      <td>-0.490029</td>\n",
              "      <td>-0.871706</td>\n",
              "      <td>0.769231</td>\n",
              "      <td>0.0</td>\n",
              "      <td>0.6</td>\n",
              "      <td>0.0</td>\n",
              "      <td>0.0</td>\n",
              "      <td>0.0</td>\n",
              "      <td>0.0</td>\n",
              "      <td>0.0</td>\n",
              "      <td>27.8</td>\n",
              "      <td>2022-09-02 12:54:00-04:00</td>\n",
              "    </tr>\n",
              "    <tr>\n",
              "      <th>58462</th>\n",
              "      <td>-0.878817</td>\n",
              "      <td>-0.477159</td>\n",
              "      <td>-0.490029</td>\n",
              "      <td>-0.871706</td>\n",
              "      <td>0.000000</td>\n",
              "      <td>0.0</td>\n",
              "      <td>0.6</td>\n",
              "      <td>0.0</td>\n",
              "      <td>0.0</td>\n",
              "      <td>0.0</td>\n",
              "      <td>0.0</td>\n",
              "      <td>0.0</td>\n",
              "      <td>28.9</td>\n",
              "      <td>2022-09-02 13:54:00-04:00</td>\n",
              "    </tr>\n",
              "    <tr>\n",
              "      <th>58463</th>\n",
              "      <td>-0.725374</td>\n",
              "      <td>-0.688355</td>\n",
              "      <td>-0.490029</td>\n",
              "      <td>-0.871706</td>\n",
              "      <td>0.576923</td>\n",
              "      <td>0.0</td>\n",
              "      <td>0.6</td>\n",
              "      <td>0.0</td>\n",
              "      <td>0.0</td>\n",
              "      <td>0.0</td>\n",
              "      <td>0.0</td>\n",
              "      <td>0.0</td>\n",
              "      <td>28.9</td>\n",
              "      <td>2022-09-02 14:54:00-04:00</td>\n",
              "    </tr>\n",
              "    <tr>\n",
              "      <th>58464</th>\n",
              "      <td>-0.522499</td>\n",
              "      <td>-0.852640</td>\n",
              "      <td>-0.490029</td>\n",
              "      <td>-0.871706</td>\n",
              "      <td>0.769231</td>\n",
              "      <td>0.0</td>\n",
              "      <td>0.6</td>\n",
              "      <td>0.0</td>\n",
              "      <td>0.0</td>\n",
              "      <td>0.0</td>\n",
              "      <td>0.0</td>\n",
              "      <td>0.0</td>\n",
              "      <td>29.4</td>\n",
              "      <td>2022-09-02 15:54:00-04:00</td>\n",
              "    </tr>\n",
              "    <tr>\n",
              "      <th>58465</th>\n",
              "      <td>-0.284015</td>\n",
              "      <td>-0.958820</td>\n",
              "      <td>-0.490029</td>\n",
              "      <td>-0.871706</td>\n",
              "      <td>0.769231</td>\n",
              "      <td>0.0</td>\n",
              "      <td>0.6</td>\n",
              "      <td>0.0</td>\n",
              "      <td>0.0</td>\n",
              "      <td>0.0</td>\n",
              "      <td>0.0</td>\n",
              "      <td>0.0</td>\n",
              "      <td>30.0</td>\n",
              "      <td>2022-09-02 16:54:00-04:00</td>\n",
              "    </tr>\n",
              "  </tbody>\n",
              "</table>\n",
              "<p>58466 rows × 14 columns</p>\n",
              "</div>\n",
              "      <button class=\"colab-df-convert\" onclick=\"convertToInteractive('df-3abc6e93-8f6a-4b52-8641-19b1631b4f3a')\"\n",
              "              title=\"Convert this dataframe to an interactive table.\"\n",
              "              style=\"display:none;\">\n",
              "        \n",
              "  <svg xmlns=\"http://www.w3.org/2000/svg\" height=\"24px\"viewBox=\"0 0 24 24\"\n",
              "       width=\"24px\">\n",
              "    <path d=\"M0 0h24v24H0V0z\" fill=\"none\"/>\n",
              "    <path d=\"M18.56 5.44l.94 2.06.94-2.06 2.06-.94-2.06-.94-.94-2.06-.94 2.06-2.06.94zm-11 1L8.5 8.5l.94-2.06 2.06-.94-2.06-.94L8.5 2.5l-.94 2.06-2.06.94zm10 10l.94 2.06.94-2.06 2.06-.94-2.06-.94-.94-2.06-.94 2.06-2.06.94z\"/><path d=\"M17.41 7.96l-1.37-1.37c-.4-.4-.92-.59-1.43-.59-.52 0-1.04.2-1.43.59L10.3 9.45l-7.72 7.72c-.78.78-.78 2.05 0 2.83L4 21.41c.39.39.9.59 1.41.59.51 0 1.02-.2 1.41-.59l7.78-7.78 2.81-2.81c.8-.78.8-2.07 0-2.86zM5.41 20L4 18.59l7.72-7.72 1.47 1.35L5.41 20z\"/>\n",
              "  </svg>\n",
              "      </button>\n",
              "      \n",
              "  <style>\n",
              "    .colab-df-container {\n",
              "      display:flex;\n",
              "      flex-wrap:wrap;\n",
              "      gap: 12px;\n",
              "    }\n",
              "\n",
              "    .colab-df-convert {\n",
              "      background-color: #E8F0FE;\n",
              "      border: none;\n",
              "      border-radius: 50%;\n",
              "      cursor: pointer;\n",
              "      display: none;\n",
              "      fill: #1967D2;\n",
              "      height: 32px;\n",
              "      padding: 0 0 0 0;\n",
              "      width: 32px;\n",
              "    }\n",
              "\n",
              "    .colab-df-convert:hover {\n",
              "      background-color: #E2EBFA;\n",
              "      box-shadow: 0px 1px 2px rgba(60, 64, 67, 0.3), 0px 1px 3px 1px rgba(60, 64, 67, 0.15);\n",
              "      fill: #174EA6;\n",
              "    }\n",
              "\n",
              "    [theme=dark] .colab-df-convert {\n",
              "      background-color: #3B4455;\n",
              "      fill: #D2E3FC;\n",
              "    }\n",
              "\n",
              "    [theme=dark] .colab-df-convert:hover {\n",
              "      background-color: #434B5C;\n",
              "      box-shadow: 0px 1px 3px 1px rgba(0, 0, 0, 0.15);\n",
              "      filter: drop-shadow(0px 1px 2px rgba(0, 0, 0, 0.3));\n",
              "      fill: #FFFFFF;\n",
              "    }\n",
              "  </style>\n",
              "\n",
              "      <script>\n",
              "        const buttonEl =\n",
              "          document.querySelector('#df-3abc6e93-8f6a-4b52-8641-19b1631b4f3a button.colab-df-convert');\n",
              "        buttonEl.style.display =\n",
              "          google.colab.kernel.accessAllowed ? 'block' : 'none';\n",
              "\n",
              "        async function convertToInteractive(key) {\n",
              "          const element = document.querySelector('#df-3abc6e93-8f6a-4b52-8641-19b1631b4f3a');\n",
              "          const dataTable =\n",
              "            await google.colab.kernel.invokeFunction('convertToInteractive',\n",
              "                                                     [key], {});\n",
              "          if (!dataTable) return;\n",
              "\n",
              "          const docLinkHtml = 'Like what you see? Visit the ' +\n",
              "            '<a target=\"_blank\" href=https://colab.research.google.com/notebooks/data_table.ipynb>data table notebook</a>'\n",
              "            + ' to learn more about interactive tables.';\n",
              "          element.innerHTML = '';\n",
              "          dataTable['output_type'] = 'display_data';\n",
              "          await google.colab.output.renderOutput(dataTable, element);\n",
              "          const docLink = document.createElement('div');\n",
              "          docLink.innerHTML = docLinkHtml;\n",
              "          element.appendChild(docLink);\n",
              "        }\n",
              "      </script>\n",
              "    </div>\n",
              "  </div>\n",
              "  "
            ]
          },
          "metadata": {},
          "execution_count": 2
        }
      ]
    },
    {
      "cell_type": "code",
      "source": [
        "# Remove the date column and split the data into test and training datasets.\n",
        "\n",
        "y = wdf.pop('temp').values\n",
        "X = wdf.drop('date', axis=1).values"
      ],
      "metadata": {
        "id": "Z-VeBgWFjEFD"
      },
      "execution_count": null,
      "outputs": []
    },
    {
      "cell_type": "markdown",
      "metadata": {
        "id": "ipfQcIXgPx9P"
      },
      "source": [
        "## Prepare test and training datasets"
      ]
    },
    {
      "cell_type": "markdown",
      "metadata": {
        "id": "bcCQd_smWwx_"
      },
      "source": [
        "Note: After running the above code, `X` and `y` store $\\mathbf{X}$ and $\\mathbf{y}$, respectively."
      ]
    },
    {
      "cell_type": "code",
      "source": [
        "N = 46773 # N is 80% of the dataset\n",
        "X_train, y_train = X[:N, :], y[:N] # creates training data with 80% of dataset\n",
        "X_test, y_test = X[N:, :], y[N:] # creates test data with remaining 20%"
      ],
      "metadata": {
        "id": "ur_a8FfFjesN"
      },
      "execution_count": null,
      "outputs": []
    },
    {
      "cell_type": "markdown",
      "metadata": {
        "id": "U3ux6XzK1BLv"
      },
      "source": [
        "# Problem 1: Regressors\n",
        "\n",
        "Build at least 3 regressors using different algorithms to predict the temperature.  At least one regressor should implement a tree-based algorithm (random forest, or gradient boosted tree/xgboost.)"
      ]
    },
    {
      "cell_type": "code",
      "source": [
        "from sklearn.linear_model import LinearRegression\n",
        "regr_linear = LinearRegression(fit_intercept=True)"
      ],
      "metadata": {
        "id": "csPaMqNMNHLm"
      },
      "execution_count": null,
      "outputs": []
    },
    {
      "cell_type": "code",
      "metadata": {
        "id": "_Rs__yd93eqr"
      },
      "source": [
        "from sklearn.linear_model import RANSACRegressor\n",
        "regr_RANSAC = RANSACRegressor(LinearRegression(),\n",
        "                       residual_threshold = 5)"
      ],
      "execution_count": null,
      "outputs": []
    },
    {
      "cell_type": "code",
      "source": [
        "from sklearn.ensemble import GradientBoostingRegressor\n",
        "regr_GradientBoost = GradientBoostingRegressor()"
      ],
      "metadata": {
        "id": "DORttpp1KPpi"
      },
      "execution_count": null,
      "outputs": []
    },
    {
      "cell_type": "markdown",
      "metadata": {
        "id": "nFApD2rCQdmh"
      },
      "source": [
        "# Problem 2: Cross-Validation\n",
        "\n",
        "Use cross-validation to test each algorithm, and select the estimator with the highest accuracy score."
      ]
    },
    {
      "cell_type": "code",
      "source": [
        "from sklearn.model_selection import cross_val_score"
      ],
      "metadata": {
        "id": "e2DIEhH3Nx7T"
      },
      "execution_count": null,
      "outputs": []
    },
    {
      "cell_type": "code",
      "metadata": {
        "id": "PBS-KlOgWXvB",
        "colab": {
          "base_uri": "https://localhost:8080/"
        },
        "outputId": "e4419124-5ceb-4328-bf13-f2ff16711ed4"
      },
      "source": [
        "scores = cross_val_score(regr_linear, X_train, y_train, cv=5)\n",
        "print(\"%0.2f accuracy with a standard deviation of %0.2f\" % (scores.mean(), scores.std()))"
      ],
      "execution_count": null,
      "outputs": [
        {
          "output_type": "stream",
          "name": "stdout",
          "text": [
            "0.78 accuracy with a standard deviation of 0.02\n"
          ]
        }
      ]
    },
    {
      "cell_type": "code",
      "source": [
        "scores = cross_val_score(regr_RANSAC, X_train, y_train, cv=5)\n",
        "print(\"%0.2f accuracy with a standard deviation of %0.2f\" % (scores.mean(), scores.std()))"
      ],
      "metadata": {
        "colab": {
          "base_uri": "https://localhost:8080/"
        },
        "id": "yHVk5aHOOYTc",
        "outputId": "a036c7e0-01d7-4315-b37a-3afdd4534b61"
      },
      "execution_count": null,
      "outputs": [
        {
          "output_type": "stream",
          "name": "stdout",
          "text": [
            "0.77 accuracy with a standard deviation of 0.02\n"
          ]
        }
      ]
    },
    {
      "cell_type": "code",
      "source": [
        "scores = cross_val_score(regr_GradientBoost, X_train, y_train, cv=5)\n",
        "print(\"%0.2f accuracy with a standard deviation of %0.2f\" % (scores.mean(), scores.std()))"
      ],
      "metadata": {
        "colab": {
          "base_uri": "https://localhost:8080/"
        },
        "id": "PV1q0IQQOjoD",
        "outputId": "ec28aadb-9c92-4623-9143-c2aea9fd2162"
      },
      "execution_count": null,
      "outputs": [
        {
          "output_type": "stream",
          "name": "stdout",
          "text": [
            "0.80 accuracy with a standard deviation of 0.02\n"
          ]
        }
      ]
    },
    {
      "cell_type": "markdown",
      "source": [
        "The Gradient Boost regression model appears to have the best accuracy score"
      ],
      "metadata": {
        "id": "NyxX4PwePF6D"
      }
    },
    {
      "cell_type": "markdown",
      "metadata": {
        "id": "itVHCHarIVyh"
      },
      "source": [
        "# Problem 3: Most important features\n",
        "Use one of the tree-based models to evaluate feature importance.  Which features are the most important?"
      ]
    },
    {
      "cell_type": "code",
      "source": [
        "import matplotlib.pyplot as plt\n",
        "import numpy as np\n",
        "wdf_X = wdf.drop('date', axis=1)\n",
        "feature_names = wdf_X.columns.values.tolist()\n",
        "feature_importance = regr_GradientBoost.feature_importances_\n",
        "sorted_idx = np.argsort(feature_importance)\n",
        "pos = np.arange(sorted_idx.shape[0]) + 0.5\n",
        "fig = plt.figure(figsize=(12, 6))\n",
        "plt.subplot(1, 2, 1)\n",
        "plt.barh(pos, feature_importance[sorted_idx], align=\"center\")\n",
        "plt.yticks(pos, np.array(feature_names)[sorted_idx])\n",
        "plt.title(\"Feature Importance (MDI)\")"
      ],
      "metadata": {
        "colab": {
          "base_uri": "https://localhost:8080/",
          "height": 563
        },
        "id": "IQdEu9K0jz_z",
        "outputId": "e8acb75b-97c9-4816-aeec-7e5f22a57f9d"
      },
      "execution_count": null,
      "outputs": [
        {
          "output_type": "execute_result",
          "data": {
            "text/plain": [
              "Text(0.5, 1.0, 'Feature Importance (MDI)')"
            ]
          },
          "metadata": {},
          "execution_count": 23
        },
        {
          "output_type": "display_data",
          "data": {
            "text/plain": [
              "<Figure size 1200x600 with 1 Axes>"
            ],
            "image/png": "[encoded data removed]"
          },
          "metadata": {}
        }
      ]
    },
    {
      "cell_type": "markdown",
      "source": [
        "According to measurement of mean decrease in impurity (MDI), the most important features are timeofyear_sin, timeofyear_cis, timeofday_cos, and timeofday_sin. Based on this, it is clear that time of year and time of day are what affect the regression model the most within the dataset."
      ],
      "metadata": {
        "id": "x6VvSy7cnYv4"
      }
    },
    {
      "cell_type": "markdown",
      "metadata": {
        "id": "PTWRfEoCTQzh"
      },
      "source": [
        "# Problem 4: Residuals Plot\n",
        "For the best model selected above, show a residuals plot ($\\hat{y}$ vs. $\\hat{y} - y$).  Does the residuals plot show evidence of uncaptured exploratory information?\n"
      ]
    },
    {
      "cell_type": "code",
      "metadata": {
        "id": "E48CnyCWWdIu",
        "colab": {
          "base_uri": "https://localhost:8080/",
          "height": 467
        },
        "outputId": "b451ddef-268f-43a4-d01d-ab301118f72e"
      },
      "source": [
        "y_pred = regr_GradientBoost.predict(X_train)\n",
        "y_diff = y_pred - y_train\n",
        "plt.scatter(y_pred, y_diff)\n",
        "plt.xlabel('Predicted Value')\n",
        "plt.ylabel('Residuals')"
      ],
      "execution_count": null,
      "outputs": [
        {
          "output_type": "execute_result",
          "data": {
            "text/plain": [
              "Text(0, 0.5, 'Residuals')"
            ]
          },
          "metadata": {},
          "execution_count": 35
        },
        {
          "output_type": "display_data",
          "data": {
            "text/plain": [
              "<Figure size 640x480 with 1 Axes>"
            ],
            "image/png": "[encoded data removed]"
          },
          "metadata": {}
        }
      ]
    },
    {
      "cell_type": "markdown",
      "source": [
        "The plot does not appear to show evidence of uncaptured exploratory information."
      ],
      "metadata": {
        "id": "Ep2k2FskqWma"
      }
    },
    {
      "cell_type": "markdown",
      "metadata": {
        "id": "fchUpROjIIjH"
      },
      "source": [
        "# Problem 5: Evaluation\n",
        "Train the model with the highest accuracy score with the full training dataset.  Score the test data against this model.  Does the model demonstrate predictive validity?"
      ]
    },
    {
      "cell_type": "code",
      "metadata": {
        "id": "hLcI0QyxWh5w",
        "colab": {
          "base_uri": "https://localhost:8080/",
          "height": 74
        },
        "outputId": "e5d0fec1-de4c-473d-cd7e-acbbd62a9feb"
      },
      "source": [
        "regr_GradientBoost.fit(X_train, y_train)"
      ],
      "execution_count": null,
      "outputs": [
        {
          "output_type": "execute_result",
          "data": {
            "text/plain": [
              "GradientBoostingRegressor()"
            ],
            "text/html": [
              "<style>#sk-container-id-4 {color: black;background-color: white;}#sk-container-id-4 pre{padding: 0;}#sk-container-id-4 div.sk-toggleable {background-color: white;}#sk-container-id-4 label.sk-toggleable__label {cursor: pointer;display: block;width: 100%;margin-bottom: 0;padding: 0.3em;box-sizing: border-box;text-align: center;}#sk-container-id-4 label.sk-toggleable__label-arrow:before {content: \"▸\";float: left;margin-right: 0.25em;color: #696969;}#sk-container-id-4 label.sk-toggleable__label-arrow:hover:before {color: black;}#sk-container-id-4 div.sk-estimator:hover label.sk-toggleable__label-arrow:before {color: black;}#sk-container-id-4 div.sk-toggleable__content {max-height: 0;max-width: 0;overflow: hidden;text-align: left;background-color: #f0f8ff;}#sk-container-id-4 div.sk-toggleable__content pre {margin: 0.2em;color: black;border-radius: 0.25em;background-color: #f0f8ff;}#sk-container-id-4 input.sk-toggleable__control:checked~div.sk-toggleable__content {max-height: 200px;max-width: 100%;overflow: auto;}#sk-container-id-4 input.sk-toggleable__control:checked~label.sk-toggleable__label-arrow:before {content: \"▾\";}#sk-container-id-4 div.sk-estimator input.sk-toggleable__control:checked~label.sk-toggleable__label {background-color: #d4ebff;}#sk-container-id-4 div.sk-label input.sk-toggleable__control:checked~label.sk-toggleable__label {background-color: #d4ebff;}#sk-container-id-4 input.sk-hidden--visually {border: 0;clip: rect(1px 1px 1px 1px);clip: rect(1px, 1px, 1px, 1px);height: 1px;margin: -1px;overflow: hidden;padding: 0;position: absolute;width: 1px;}#sk-container-id-4 div.sk-estimator {font-family: monospace;background-color: #f0f8ff;border: 1px dotted black;border-radius: 0.25em;box-sizing: border-box;margin-bottom: 0.5em;}#sk-container-id-4 div.sk-estimator:hover {background-color: #d4ebff;}#sk-container-id-4 div.sk-parallel-item::after {content: \"\";width: 100%;border-bottom: 1px solid gray;flex-grow: 1;}#sk-container-id-4 div.sk-label:hover label.sk-toggleable__label {background-color: #d4ebff;}#sk-container-id-4 div.sk-serial::before {content: \"\";position: absolute;border-left: 1px solid gray;box-sizing: border-box;top: 0;bottom: 0;left: 50%;z-index: 0;}#sk-container-id-4 div.sk-serial {display: flex;flex-direction: column;align-items: center;background-color: white;padding-right: 0.2em;padding-left: 0.2em;position: relative;}#sk-container-id-4 div.sk-item {position: relative;z-index: 1;}#sk-container-id-4 div.sk-parallel {display: flex;align-items: stretch;justify-content: center;background-color: white;position: relative;}#sk-container-id-4 div.sk-item::before, #sk-container-id-4 div.sk-parallel-item::before {content: \"\";position: absolute;border-left: 1px solid gray;box-sizing: border-box;top: 0;bottom: 0;left: 50%;z-index: -1;}#sk-container-id-4 div.sk-parallel-item {display: flex;flex-direction: column;z-index: 1;position: relative;background-color: white;}#sk-container-id-4 div.sk-parallel-item:first-child::after {align-self: flex-end;width: 50%;}#sk-container-id-4 div.sk-parallel-item:last-child::after {align-self: flex-start;width: 50%;}#sk-container-id-4 div.sk-parallel-item:only-child::after {width: 0;}#sk-container-id-4 div.sk-dashed-wrapped {border: 1px dashed gray;margin: 0 0.4em 0.5em 0.4em;box-sizing: border-box;padding-bottom: 0.4em;background-color: white;}#sk-container-id-4 div.sk-label label {font-family: monospace;font-weight: bold;display: inline-block;line-height: 1.2em;}#sk-container-id-4 div.sk-label-container {text-align: center;}#sk-container-id-4 div.sk-container {/* jupyter's `normalize.less` sets `[hidden] { display: none; }` but bootstrap.min.css set `[hidden] { display: none !important; }` so we also need the `!important` here to be able to override the default hidden behavior on the sphinx rendered scikit-learn.org. See: https://github.com/scikit-learn/scikit-learn/issues/21755 */display: inline-block !important;position: relative;}#sk-container-id-4 div.sk-text-repr-fallback {display: none;}</style><div id=\"sk-container-id-4\" class=\"sk-top-container\"><div class=\"sk-text-repr-fallback\"><pre>GradientBoostingRegressor()</pre><b>In a Jupyter environment, please rerun this cell to show the HTML representation or trust the notebook. <br />On GitHub, the HTML representation is unable to render, please try loading this page with nbviewer.org.</b></div><div class=\"sk-container\" hidden><div class=\"sk-item\"><div class=\"sk-estimator sk-toggleable\"><input class=\"sk-toggleable__control sk-hidden--visually\" id=\"sk-estimator-id-6\" type=\"checkbox\" checked><label for=\"sk-estimator-id-6\" class=\"sk-toggleable__label sk-toggleable__label-arrow\">GradientBoostingRegressor</label><div class=\"sk-toggleable__content\"><pre>GradientBoostingRegressor()</pre></div></div></div></div></div>"
            ]
          },
          "metadata": {},
          "execution_count": 40
        }
      ]
    },
    {
      "cell_type": "code",
      "source": [
        "scores = cross_val_score(regr_GradientBoost, X_test, y_test, cv=5)\n",
        "print(\"%0.2f accuracy with a standard deviation of %0.2f\" % (scores.mean(), scores.std()))"
      ],
      "metadata": {
        "colab": {
          "base_uri": "https://localhost:8080/"
        },
        "id": "vytVNJvvrhRN",
        "outputId": "11ea7132-d954-47c4-9398-f063a7e24ce9"
      },
      "execution_count": null,
      "outputs": [
        {
          "output_type": "stream",
          "name": "stdout",
          "text": [
            "0.29 accuracy with a standard deviation of 0.20\n"
          ]
        }
      ]
    },
    {
      "cell_type": "markdown",
      "source": [
        "The accuracy score shows that the model does not demonstrate predictive validity."
      ],
      "metadata": {
        "id": "B3xY6MIirn8W"
      }
    }
  ]
}